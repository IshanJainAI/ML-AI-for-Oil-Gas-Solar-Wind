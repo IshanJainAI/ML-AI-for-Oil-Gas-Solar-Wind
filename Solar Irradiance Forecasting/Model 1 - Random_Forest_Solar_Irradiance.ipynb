{
  "cells": [
    {
      "cell_type": "code",
      "execution_count": null,
      "metadata": {
        "id": "iQeE040oKDAs"
      },
      "outputs": [],
      "source": [
        "#import libaries\n",
        "import matplotlib.pyplot as plt\n",
        "import numpy as np\n",
        "import pandas as pd\n",
        "import seaborn as sns\n",
        "plt.style.use('seaborn')\n",
        "import tensorflow as tf\n",
        "from tensorflow import keras\n",
        "from tensorflow.keras import layers\n",
        "#import tensorflow_docs as tfdocs\n",
        "#import tensorflow_docs.plots\n",
        "#import tensorflow_docs.modeling\n"
      ]
    },
    {
      "cell_type": "code",
      "execution_count": null,
      "metadata": {
        "id": "HtHGgLSuKEoq"
      },
      "outputs": [],
      "source": [
        "from sklearn.decomposition import PCA\n",
        "from sklearn import metrics\n",
        "from tensorflow.keras.models import Sequential\n",
        "from tensorflow.keras.layers import Dense\n",
        "from tensorflow.keras.layers import LSTM\n",
        "from tensorflow.keras.layers import Dropout\n",
        "from tensorflow.keras.layers import TimeDistributed\n",
        "from tensorflow.keras.layers import Bidirectional\n",
        "from tensorflow.keras.layers import Flatten\n",
        "from tensorflow.keras.layers import Conv1D\n",
        "from tensorflow.keras.layers import MaxPooling1D"
      ]
    },
    {
      "cell_type": "code",
      "execution_count": null,
      "metadata": {
        "id": "c9AC3URLKLMV"
      },
      "outputs": [],
      "source": [
        "#from sklearn.metrics import max_error\n",
        "from sklearn.metrics import r2_score\n",
        "from sklearn.metrics import mean_absolute_error\n",
        "from sklearn.metrics import mean_squared_error\n",
        "from sklearn.metrics import explained_variance_score\n",
        "from sklearn.preprocessing import StandardScaler, MinMaxScaler, Normalizer\n",
        "from sklearn.model_selection import train_test_split\n",
        "from sklearn.model_selection import cross_val_score\n",
        "from keras.layers import Dense, Dropout\n",
        "from keras.optimizers import SGD, Adam\n",
        "from keras.models import Sequential\n",
        "from collections import Counter\n",
        "from scipy import stats"
      ]
    },
    {
      "cell_type": "code",
      "execution_count": null,
      "metadata": {
        "id": "ZnhdQQnAKTQA"
      },
      "outputs": [],
      "source": [
        "datac=pd.read_csv(\"/content/climacell_data_formodel.csv\")"
      ]
    },
    {
      "cell_type": "code",
      "execution_count": null,
      "metadata": {
        "id": "Kj5tWiiH-QFg"
      },
      "outputs": [],
      "source": [
        "Y=pd.read_csv(\"/content/climacell_data_formodel.csv\")"
      ]
    },
    {
      "cell_type": "code",
      "execution_count": null,
      "metadata": {
        "id": "-GY0qINc-SLg"
      },
      "outputs": [],
      "source": [
        "Y=Y[\"irradiance\"]"
      ]
    },
    {
      "cell_type": "code",
      "execution_count": null,
      "metadata": {
        "colab": {
          "base_uri": "https://localhost:8080/",
          "height": 133
        },
        "id": "qrqb1EIgLCXc",
        "outputId": "b8c97ff9-ee14-4eed-ccff-a8079d96b4f1"
      },
      "outputs": [
        {
          "data": {
            "text/html": [
              "<div>\n",
              "<style scoped>\n",
              "    .dataframe tbody tr th:only-of-type {\n",
              "        vertical-align: middle;\n",
              "    }\n",
              "\n",
              "    .dataframe tbody tr th {\n",
              "        vertical-align: top;\n",
              "    }\n",
              "\n",
              "    .dataframe thead th {\n",
              "        text-align: right;\n",
              "    }\n",
              "</style>\n",
              "<table border=\"1\" class=\"dataframe\">\n",
              "  <thead>\n",
              "    <tr style=\"text-align: right;\">\n",
              "      <th></th>\n",
              "      <th>count</th>\n",
              "      <th>mean</th>\n",
              "      <th>std</th>\n",
              "      <th>min</th>\n",
              "      <th>25%</th>\n",
              "      <th>50%</th>\n",
              "      <th>75%</th>\n",
              "      <th>max</th>\n",
              "    </tr>\n",
              "  </thead>\n",
              "  <tbody>\n",
              "    <tr>\n",
              "      <th>irradiance</th>\n",
              "      <td>2952.0</td>\n",
              "      <td>118.702913</td>\n",
              "      <td>118.714366</td>\n",
              "      <td>0.00</td>\n",
              "      <td>10.00</td>\n",
              "      <td>90.00</td>\n",
              "      <td>190.00</td>\n",
              "      <td>373.00</td>\n",
              "    </tr>\n",
              "    <tr>\n",
              "      <th>ambient_temp</th>\n",
              "      <td>2952.0</td>\n",
              "      <td>29.538144</td>\n",
              "      <td>1.011530</td>\n",
              "      <td>26.39</td>\n",
              "      <td>28.98</td>\n",
              "      <td>29.62</td>\n",
              "      <td>30.19</td>\n",
              "      <td>33.42</td>\n",
              "    </tr>\n",
              "    <tr>\n",
              "      <th>wind_speed</th>\n",
              "      <td>2952.0</td>\n",
              "      <td>5.155610</td>\n",
              "      <td>1.781745</td>\n",
              "      <td>0.37</td>\n",
              "      <td>4.05</td>\n",
              "      <td>5.04</td>\n",
              "      <td>5.84</td>\n",
              "      <td>12.34</td>\n",
              "    </tr>\n",
              "  </tbody>\n",
              "</table>\n",
              "</div>"
            ],
            "text/plain": [
              "               count        mean         std  ...    50%     75%     max\n",
              "irradiance    2952.0  118.702913  118.714366  ...  90.00  190.00  373.00\n",
              "ambient_temp  2952.0   29.538144    1.011530  ...  29.62   30.19   33.42\n",
              "wind_speed    2952.0    5.155610    1.781745  ...   5.04    5.84   12.34\n",
              "\n",
              "[3 rows x 8 columns]"
            ]
          },
          "execution_count": 52,
          "metadata": {
            "tags": []
          },
          "output_type": "execute_result"
        }
      ],
      "source": [
        "datac.describe().T"
      ]
    },
    {
      "cell_type": "code",
      "execution_count": null,
      "metadata": {
        "colab": {
          "base_uri": "https://localhost:8080/",
          "height": 191
        },
        "id": "2n1q7lpJoDJl",
        "outputId": "9f3df921-d2ba-495a-daf0-cf000e82782c"
      },
      "outputs": [
        {
          "data": {
            "text/html": [
              "<div>\n",
              "<style scoped>\n",
              "    .dataframe tbody tr th:only-of-type {\n",
              "        vertical-align: middle;\n",
              "    }\n",
              "\n",
              "    .dataframe tbody tr th {\n",
              "        vertical-align: top;\n",
              "    }\n",
              "\n",
              "    .dataframe thead th {\n",
              "        text-align: right;\n",
              "    }\n",
              "</style>\n",
              "<table border=\"1\" class=\"dataframe\">\n",
              "  <thead>\n",
              "    <tr style=\"text-align: right;\">\n",
              "      <th></th>\n",
              "      <th>date_time</th>\n",
              "      <th>date</th>\n",
              "      <th>time</th>\n",
              "      <th>irradiance</th>\n",
              "      <th>ambient_temp</th>\n",
              "      <th>wind_speed</th>\n",
              "    </tr>\n",
              "  </thead>\n",
              "  <tbody>\n",
              "    <tr>\n",
              "      <th>0</th>\n",
              "      <td>2020-08-20 06:05:00+05:30</td>\n",
              "      <td>20-08-2020</td>\n",
              "      <td>06:05:00</td>\n",
              "      <td>0</td>\n",
              "      <td>28.58</td>\n",
              "      <td>6.33</td>\n",
              "    </tr>\n",
              "    <tr>\n",
              "      <th>1</th>\n",
              "      <td>2020-08-20 06:10:00+05:30</td>\n",
              "      <td>20-08-2020</td>\n",
              "      <td>06:10:00</td>\n",
              "      <td>0</td>\n",
              "      <td>28.57</td>\n",
              "      <td>6.26</td>\n",
              "    </tr>\n",
              "    <tr>\n",
              "      <th>2</th>\n",
              "      <td>2020-08-20 06:15:00+05:30</td>\n",
              "      <td>20-08-2020</td>\n",
              "      <td>06:15:00</td>\n",
              "      <td>0</td>\n",
              "      <td>28.57</td>\n",
              "      <td>6.18</td>\n",
              "    </tr>\n",
              "    <tr>\n",
              "      <th>3</th>\n",
              "      <td>2020-08-20 06:20:00+05:30</td>\n",
              "      <td>20-08-2020</td>\n",
              "      <td>06:20:00</td>\n",
              "      <td>0</td>\n",
              "      <td>28.56</td>\n",
              "      <td>6.11</td>\n",
              "    </tr>\n",
              "    <tr>\n",
              "      <th>4</th>\n",
              "      <td>2020-08-20 06:25:00+05:30</td>\n",
              "      <td>20-08-2020</td>\n",
              "      <td>06:25:00</td>\n",
              "      <td>0</td>\n",
              "      <td>28.56</td>\n",
              "      <td>6.03</td>\n",
              "    </tr>\n",
              "  </tbody>\n",
              "</table>\n",
              "</div>"
            ],
            "text/plain": [
              "                   date_time        date  ... ambient_temp  wind_speed\n",
              "0  2020-08-20 06:05:00+05:30  20-08-2020  ...        28.58        6.33\n",
              "1  2020-08-20 06:10:00+05:30  20-08-2020  ...        28.57        6.26\n",
              "2  2020-08-20 06:15:00+05:30  20-08-2020  ...        28.57        6.18\n",
              "3  2020-08-20 06:20:00+05:30  20-08-2020  ...        28.56        6.11\n",
              "4  2020-08-20 06:25:00+05:30  20-08-2020  ...        28.56        6.03\n",
              "\n",
              "[5 rows x 6 columns]"
            ]
          },
          "execution_count": 53,
          "metadata": {
            "tags": []
          },
          "output_type": "execute_result"
        }
      ],
      "source": [
        "datac.head()"
      ]
    },
    {
      "cell_type": "code",
      "execution_count": null,
      "metadata": {
        "id": "axqGeipun1Kn"
      },
      "outputs": [],
      "source": [
        "import time\n",
        "import datetime\n",
        "def convert_to_unix(s):\n",
        "    return time.mktime(datetime.datetime.strptime(s, \"%Y-%m-%d %H:%M:%S+05:30\").timetuple())\n",
        "datac[\"unix_time\"]=[float(convert_to_unix(x)) for x in datac['date_time'].values]\n",
        "datac[\"unix_time\"]=datac[\"unix_time\"].apply(lambda x: '%.0f' % x).astype(\"int\")"
      ]
    },
    {
      "cell_type": "code",
      "execution_count": null,
      "metadata": {
        "id": "9esDioKbLUFH"
      },
      "outputs": [],
      "source": [
        "datac[\"hour\"]=pd.to_datetime(datac[\"unix_time\"],unit=\"s\").dt.hour\n",
        "datac[\"min\"]=pd.to_datetime(datac[\"unix_time\"],unit=\"s\").dt.minute\n",
        "datac[\"sec\"]=pd.to_datetime(datac[\"unix_time\"],unit=\"s\").dt.second"
      ]
    },
    {
      "cell_type": "code",
      "execution_count": null,
      "metadata": {
        "colab": {
          "base_uri": "https://localhost:8080/"
        },
        "id": "O-qfCFd9L3wL",
        "outputId": "1d5f7764-6795-4af3-dac5-38637db9f6d7"
      },
      "outputs": [
        {
          "data": {
            "text/plain": [
              "Index(['irradiance_x', 'ambient_temp_x', 'wind_speed_x', 'unix_time_x',\n",
              "       'min_x', 'sec_x', 'irradiance_y', 'ambient_temp_y', 'wind_speed_y',\n",
              "       'unix_time_y', 'min_y', 'sec_y'],\n",
              "      dtype='object')"
            ]
          },
          "execution_count": 56,
          "metadata": {
            "tags": []
          },
          "output_type": "execute_result"
        }
      ],
      "source": [
        "draft.columns"
      ]
    },
    {
      "cell_type": "code",
      "execution_count": null,
      "metadata": {
        "id": "h7c0tdaAMgc7"
      },
      "outputs": [],
      "source": [
        "draf=datac.groupby([\"date\",\"hour\"]).median()"
      ]
    },
    {
      "cell_type": "code",
      "execution_count": null,
      "metadata": {
        "id": "ELkaf1c9t_tN"
      },
      "outputs": [],
      "source": [
        "datac=pd.merge(datac,draf,on=[\"date\",\"hour\"])"
      ]
    },
    {
      "cell_type": "code",
      "execution_count": null,
      "metadata": {
        "id": "WWeY2ccNTVNi"
      },
      "outputs": [],
      "source": [
        ""
      ]
    },
    {
      "cell_type": "code",
      "execution_count": null,
      "metadata": {
        "colab": {
          "base_uri": "https://localhost:8080/",
          "height": 391
        },
        "id": "hzFg20hXv1hT",
        "outputId": "fa914845-c81d-4a32-d899-7a9336e71000"
      },
      "outputs": [
        {
          "data": {
            "text/html": [
              "<div>\n",
              "<style scoped>\n",
              "    .dataframe tbody tr th:only-of-type {\n",
              "        vertical-align: middle;\n",
              "    }\n",
              "\n",
              "    .dataframe tbody tr th {\n",
              "        vertical-align: top;\n",
              "    }\n",
              "\n",
              "    .dataframe thead th {\n",
              "        text-align: right;\n",
              "    }\n",
              "</style>\n",
              "<table border=\"1\" class=\"dataframe\">\n",
              "  <thead>\n",
              "    <tr style=\"text-align: right;\">\n",
              "      <th></th>\n",
              "      <th>date_time</th>\n",
              "      <th>date</th>\n",
              "      <th>time</th>\n",
              "      <th>irradiance_x</th>\n",
              "      <th>ambient_temp_x</th>\n",
              "      <th>wind_speed_x</th>\n",
              "      <th>unix_time_x</th>\n",
              "      <th>hour</th>\n",
              "      <th>min_x</th>\n",
              "      <th>sec_x</th>\n",
              "      <th>irradiance_y</th>\n",
              "      <th>ambient_temp_y</th>\n",
              "      <th>wind_speed_y</th>\n",
              "      <th>unix_time_y</th>\n",
              "      <th>min_y</th>\n",
              "      <th>sec_y</th>\n",
              "    </tr>\n",
              "  </thead>\n",
              "  <tbody>\n",
              "    <tr>\n",
              "      <th>0</th>\n",
              "      <td>2020-08-20 06:05:00+05:30</td>\n",
              "      <td>20-08-2020</td>\n",
              "      <td>06:05:00</td>\n",
              "      <td>0</td>\n",
              "      <td>28.58</td>\n",
              "      <td>6.33</td>\n",
              "      <td>1597903500</td>\n",
              "      <td>6</td>\n",
              "      <td>5</td>\n",
              "      <td>0</td>\n",
              "      <td>0.0</td>\n",
              "      <td>28.570</td>\n",
              "      <td>6.110</td>\n",
              "      <td>1.597905e+09</td>\n",
              "      <td>30.0</td>\n",
              "      <td>0.0</td>\n",
              "    </tr>\n",
              "    <tr>\n",
              "      <th>1</th>\n",
              "      <td>2020-08-20 06:10:00+05:30</td>\n",
              "      <td>20-08-2020</td>\n",
              "      <td>06:10:00</td>\n",
              "      <td>0</td>\n",
              "      <td>28.57</td>\n",
              "      <td>6.26</td>\n",
              "      <td>1597903800</td>\n",
              "      <td>6</td>\n",
              "      <td>10</td>\n",
              "      <td>0</td>\n",
              "      <td>0.0</td>\n",
              "      <td>28.570</td>\n",
              "      <td>6.110</td>\n",
              "      <td>1.597905e+09</td>\n",
              "      <td>30.0</td>\n",
              "      <td>0.0</td>\n",
              "    </tr>\n",
              "    <tr>\n",
              "      <th>2</th>\n",
              "      <td>2020-08-20 06:15:00+05:30</td>\n",
              "      <td>20-08-2020</td>\n",
              "      <td>06:15:00</td>\n",
              "      <td>0</td>\n",
              "      <td>28.57</td>\n",
              "      <td>6.18</td>\n",
              "      <td>1597904100</td>\n",
              "      <td>6</td>\n",
              "      <td>15</td>\n",
              "      <td>0</td>\n",
              "      <td>0.0</td>\n",
              "      <td>28.570</td>\n",
              "      <td>6.110</td>\n",
              "      <td>1.597905e+09</td>\n",
              "      <td>30.0</td>\n",
              "      <td>0.0</td>\n",
              "    </tr>\n",
              "    <tr>\n",
              "      <th>3</th>\n",
              "      <td>2020-08-20 06:20:00+05:30</td>\n",
              "      <td>20-08-2020</td>\n",
              "      <td>06:20:00</td>\n",
              "      <td>0</td>\n",
              "      <td>28.56</td>\n",
              "      <td>6.11</td>\n",
              "      <td>1597904400</td>\n",
              "      <td>6</td>\n",
              "      <td>20</td>\n",
              "      <td>0</td>\n",
              "      <td>0.0</td>\n",
              "      <td>28.570</td>\n",
              "      <td>6.110</td>\n",
              "      <td>1.597905e+09</td>\n",
              "      <td>30.0</td>\n",
              "      <td>0.0</td>\n",
              "    </tr>\n",
              "    <tr>\n",
              "      <th>4</th>\n",
              "      <td>2020-08-20 06:25:00+05:30</td>\n",
              "      <td>20-08-2020</td>\n",
              "      <td>06:25:00</td>\n",
              "      <td>0</td>\n",
              "      <td>28.56</td>\n",
              "      <td>6.03</td>\n",
              "      <td>1597904700</td>\n",
              "      <td>6</td>\n",
              "      <td>25</td>\n",
              "      <td>0</td>\n",
              "      <td>0.0</td>\n",
              "      <td>28.570</td>\n",
              "      <td>6.110</td>\n",
              "      <td>1.597905e+09</td>\n",
              "      <td>30.0</td>\n",
              "      <td>0.0</td>\n",
              "    </tr>\n",
              "    <tr>\n",
              "      <th>...</th>\n",
              "      <td>...</td>\n",
              "      <td>...</td>\n",
              "      <td>...</td>\n",
              "      <td>...</td>\n",
              "      <td>...</td>\n",
              "      <td>...</td>\n",
              "      <td>...</td>\n",
              "      <td>...</td>\n",
              "      <td>...</td>\n",
              "      <td>...</td>\n",
              "      <td>...</td>\n",
              "      <td>...</td>\n",
              "      <td>...</td>\n",
              "      <td>...</td>\n",
              "      <td>...</td>\n",
              "      <td>...</td>\n",
              "    </tr>\n",
              "    <tr>\n",
              "      <th>2947</th>\n",
              "      <td>2020-10-20 11:40:00+05:30</td>\n",
              "      <td>20-10-2020</td>\n",
              "      <td>11:40:00</td>\n",
              "      <td>322</td>\n",
              "      <td>30.24</td>\n",
              "      <td>3.10</td>\n",
              "      <td>1603194000</td>\n",
              "      <td>11</td>\n",
              "      <td>40</td>\n",
              "      <td>0</td>\n",
              "      <td>281.0</td>\n",
              "      <td>30.225</td>\n",
              "      <td>2.985</td>\n",
              "      <td>1.603193e+09</td>\n",
              "      <td>27.5</td>\n",
              "      <td>0.0</td>\n",
              "    </tr>\n",
              "    <tr>\n",
              "      <th>2948</th>\n",
              "      <td>2020-10-20 11:45:00+05:30</td>\n",
              "      <td>20-10-2020</td>\n",
              "      <td>11:45:00</td>\n",
              "      <td>322</td>\n",
              "      <td>30.25</td>\n",
              "      <td>3.14</td>\n",
              "      <td>1603194300</td>\n",
              "      <td>11</td>\n",
              "      <td>45</td>\n",
              "      <td>0</td>\n",
              "      <td>281.0</td>\n",
              "      <td>30.225</td>\n",
              "      <td>2.985</td>\n",
              "      <td>1.603193e+09</td>\n",
              "      <td>27.5</td>\n",
              "      <td>0.0</td>\n",
              "    </tr>\n",
              "    <tr>\n",
              "      <th>2949</th>\n",
              "      <td>2020-10-20 11:50:00+05:30</td>\n",
              "      <td>20-10-2020</td>\n",
              "      <td>11:50:00</td>\n",
              "      <td>322</td>\n",
              "      <td>30.26</td>\n",
              "      <td>3.19</td>\n",
              "      <td>1603194600</td>\n",
              "      <td>11</td>\n",
              "      <td>50</td>\n",
              "      <td>0</td>\n",
              "      <td>281.0</td>\n",
              "      <td>30.225</td>\n",
              "      <td>2.985</td>\n",
              "      <td>1.603193e+09</td>\n",
              "      <td>27.5</td>\n",
              "      <td>0.0</td>\n",
              "    </tr>\n",
              "    <tr>\n",
              "      <th>2950</th>\n",
              "      <td>2020-10-20 11:55:00+05:30</td>\n",
              "      <td>20-10-2020</td>\n",
              "      <td>11:55:00</td>\n",
              "      <td>322</td>\n",
              "      <td>30.26</td>\n",
              "      <td>3.24</td>\n",
              "      <td>1603194900</td>\n",
              "      <td>11</td>\n",
              "      <td>55</td>\n",
              "      <td>0</td>\n",
              "      <td>281.0</td>\n",
              "      <td>30.225</td>\n",
              "      <td>2.985</td>\n",
              "      <td>1.603193e+09</td>\n",
              "      <td>27.5</td>\n",
              "      <td>0.0</td>\n",
              "    </tr>\n",
              "    <tr>\n",
              "      <th>2951</th>\n",
              "      <td>2020-10-20 12:00:00+05:30</td>\n",
              "      <td>20-10-2020</td>\n",
              "      <td>12:00:00</td>\n",
              "      <td>322</td>\n",
              "      <td>30.27</td>\n",
              "      <td>3.28</td>\n",
              "      <td>1603195200</td>\n",
              "      <td>12</td>\n",
              "      <td>0</td>\n",
              "      <td>0</td>\n",
              "      <td>322.0</td>\n",
              "      <td>30.270</td>\n",
              "      <td>3.280</td>\n",
              "      <td>1.603195e+09</td>\n",
              "      <td>0.0</td>\n",
              "      <td>0.0</td>\n",
              "    </tr>\n",
              "  </tbody>\n",
              "</table>\n",
              "<p>2952 rows × 16 columns</p>\n",
              "</div>"
            ],
            "text/plain": [
              "                      date_time        date  ... min_y  sec_y\n",
              "0     2020-08-20 06:05:00+05:30  20-08-2020  ...  30.0    0.0\n",
              "1     2020-08-20 06:10:00+05:30  20-08-2020  ...  30.0    0.0\n",
              "2     2020-08-20 06:15:00+05:30  20-08-2020  ...  30.0    0.0\n",
              "3     2020-08-20 06:20:00+05:30  20-08-2020  ...  30.0    0.0\n",
              "4     2020-08-20 06:25:00+05:30  20-08-2020  ...  30.0    0.0\n",
              "...                         ...         ...  ...   ...    ...\n",
              "2947  2020-10-20 11:40:00+05:30  20-10-2020  ...  27.5    0.0\n",
              "2948  2020-10-20 11:45:00+05:30  20-10-2020  ...  27.5    0.0\n",
              "2949  2020-10-20 11:50:00+05:30  20-10-2020  ...  27.5    0.0\n",
              "2950  2020-10-20 11:55:00+05:30  20-10-2020  ...  27.5    0.0\n",
              "2951  2020-10-20 12:00:00+05:30  20-10-2020  ...   0.0    0.0\n",
              "\n",
              "[2952 rows x 16 columns]"
            ]
          },
          "execution_count": 59,
          "metadata": {
            "tags": []
          },
          "output_type": "execute_result"
        }
      ],
      "source": [
        "datac"
      ]
    },
    {
      "cell_type": "code",
      "execution_count": null,
      "metadata": {
        "id": "gyTgpc9AwImO"
      },
      "outputs": [],
      "source": [
        "datac=datac[['date_time', 'date', 'time', 'ambient_temp_x','ambient_temp_y',\n",
        "       'wind_speed_x', 'wind_speed_y',\"hour\",\"min_x\",\"sec_x\"]]"
      ]
    },
    {
      "cell_type": "code",
      "execution_count": null,
      "metadata": {
        "id": "P73zllXkytxB"
      },
      "outputs": [],
      "source": [
        "datac=datac.rename(columns={'ambient_temp_x':\"temp\",\"ambient_temp_y\":\"temp_median_hr\",\"wind_speed_x\":\"speed\",\"wind_speed_y\":\"speed_median_hr\"})"
      ]
    },
    {
      "cell_type": "code",
      "execution_count": null,
      "metadata": {
        "id": "PXZGoEN2yvNH"
      },
      "outputs": [],
      "source": [
        "draf=datac.groupby([\"date\",\"hour\"]).mean()"
      ]
    },
    {
      "cell_type": "code",
      "execution_count": null,
      "metadata": {
        "id": "YTV-yN8718Dj"
      },
      "outputs": [],
      "source": [
        "datac=pd.merge(datac,draf,on=[\"date\",\"hour\"])"
      ]
    },
    {
      "cell_type": "code",
      "execution_count": null,
      "metadata": {
        "colab": {
          "base_uri": "https://localhost:8080/"
        },
        "id": "b1BdBXNE3l6w",
        "outputId": "5a8689c9-da74-406a-a53d-422604d873e8"
      },
      "outputs": [
        {
          "data": {
            "text/plain": [
              "Index(['date_time', 'date', 'time', 'temp_x', 'temp_median_x', 'speed_x',\n",
              "       'speed_median_x', 'hour', 'min_x_x', 'sec_x_x', 'temp_y',\n",
              "       'temp_median_y', 'speed_y', 'speed_median_y', 'min_x_y', 'sec_x_y'],\n",
              "      dtype='object')"
            ]
          },
          "execution_count": 75,
          "metadata": {
            "tags": []
          },
          "output_type": "execute_result"
        }
      ],
      "source": [
        "datac.columns"
      ]
    },
    {
      "cell_type": "code",
      "execution_count": null,
      "metadata": {
        "id": "aWOk2fjM2uZ8"
      },
      "outputs": [],
      "source": [
        "datac=datac[['date_time', 'date', 'time', 'temp_x', 'temp_median_x', 'speed_x',\n",
        "       'speed_median_x', 'hour',\"min_x_x\",\"sec_x_x\",\"speed_y\",\"temp_y\"]]"
      ]
    },
    {
      "cell_type": "code",
      "execution_count": null,
      "metadata": {
        "id": "iMO9zLDR2vQm"
      },
      "outputs": [],
      "source": [
        "datac=datac.rename(columns={'temp_x':\"temp\", 'temp_median_x':\"temp_median\", 'speed_x':\"speed\",\n",
        "       'speed_median_x':\"speed_median\", 'hour':\"hour\",\"min_x_x\":\"min\",\"sec_x_x\":\"sec\",\"speed_y\":\"speed_mean\",\"temp_y\":\"temp_mean\"})"
      ]
    },
    {
      "cell_type": "code",
      "execution_count": null,
      "metadata": {
        "id": "rltqRlZ046dW"
      },
      "outputs": [],
      "source": [
        "datac[\"speed_overall_mean\"]=datac[\"speed\"].mean()\n",
        "datac[\"temp_overall_mean\"]=datac[\"temp\"].mean()\n",
        "datac[\"speed_overall_median\"]=datac[\"speed\"].median()\n",
        "datac[\"temp_overall_median\"]=datac[\"temp\"].median()\n",
        "datac[\"speed_overall_std\"]=datac[\"speed\"].std()\n",
        "datac[\"temp_overall_std\"]=datac[\"temp\"].std()"
      ]
    },
    {
      "cell_type": "code",
      "execution_count": null,
      "metadata": {
        "colab": {
          "base_uri": "https://localhost:8080/"
        },
        "id": "ag3eHxEM47Xv",
        "outputId": "d002dd92-f004-4150-9ac0-8438da20825c"
      },
      "outputs": [
        {
          "data": {
            "text/plain": [
              "(2952, 19)"
            ]
          },
          "execution_count": 82,
          "metadata": {
            "tags": []
          },
          "output_type": "execute_result"
        }
      ],
      "source": [
        "datac.shape"
      ]
    },
    {
      "cell_type": "code",
      "execution_count": null,
      "metadata": {
        "colab": {
          "base_uri": "https://localhost:8080/",
          "height": 281
        },
        "id": "7kXFU_6z6bEP",
        "outputId": "7e4fa17b-0594-40be-a117-55c2ba3818b2"
      },
      "outputs": [
        {
          "data": {
            "text/plain": [
              "[<matplotlib.lines.Line2D at 0x7f58af505c88>]"
            ]
          },
          "execution_count": 94,
          "metadata": {
            "tags": []
          },
          "output_type": "execute_result"
        },
        {
          "data": {
            "image/png": "[encoded data removed]",
            "text/plain": [
              "<Figure size 432x288 with 1 Axes>"
            ]
          },
          "metadata": {
            "needs_background": "light",
            "tags": []
          },
          "output_type": "display_data"
        }
      ],
      "source": [
        "plt.plot(datac.date[300:],Y[300:])"
      ]
    },
    {
      "cell_type": "code",
      "execution_count": null,
      "metadata": {
        "colab": {
          "base_uri": "https://localhost:8080/"
        },
        "id": "jGH_I2VoAJmW",
        "outputId": "c3d04f01-4d14-48f9-970d-ab61ba58a416"
      },
      "outputs": [
        {
          "data": {
            "text/plain": [
              "array(['20-08-2020', '23-08-2020', '24-08-2020', '25-08-2020',\n",
              "       '01-09-2020', '03-09-2020', '05-09-2020', '12-09-2020',\n",
              "       '18-09-2020', '22-09-2020', '23-09-2020', '24-09-2020',\n",
              "       '25-09-2020', '30-09-2020', '01-10-2020', '02-10-2020',\n",
              "       '03-10-2020', '04-10-2020', '05-10-2020', '06-10-2020',\n",
              "       '07-10-2020', '08-10-2020', '09-10-2020', '10-10-2020',\n",
              "       '11-10-2020', '12-10-2020', '16-10-2020', '17-10-2020',\n",
              "       '18-10-2020', '19-10-2020', '20-10-2020'], dtype=object)"
            ]
          },
          "execution_count": 101,
          "metadata": {
            "tags": []
          },
          "output_type": "execute_result"
        }
      ],
      "source": [
        "datac[\"date\"].unique()"
      ]
    },
    {
      "cell_type": "code",
      "execution_count": null,
      "metadata": {
        "colab": {
          "base_uri": "https://localhost:8080/",
          "height": 736
        },
        "id": "7IR6oEudAUma",
        "outputId": "3e4c2d80-b86c-4352-b6c3-d36ef63e5eaa"
      },
      "outputs": [
        {
          "data": {
            "text/html": [
              "<div>\n",
              "<style scoped>\n",
              "    .dataframe tbody tr th:only-of-type {\n",
              "        vertical-align: middle;\n",
              "    }\n",
              "\n",
              "    .dataframe tbody tr th {\n",
              "        vertical-align: top;\n",
              "    }\n",
              "\n",
              "    .dataframe thead th {\n",
              "        text-align: right;\n",
              "    }\n",
              "</style>\n",
              "<table border=\"1\" class=\"dataframe\">\n",
              "  <thead>\n",
              "    <tr style=\"text-align: right;\">\n",
              "      <th></th>\n",
              "      <th>date_time</th>\n",
              "      <th>date</th>\n",
              "      <th>time</th>\n",
              "      <th>temp</th>\n",
              "      <th>temp_median</th>\n",
              "      <th>speed</th>\n",
              "      <th>speed_median</th>\n",
              "      <th>hour</th>\n",
              "      <th>min</th>\n",
              "      <th>sec</th>\n",
              "      <th>speed_mean</th>\n",
              "      <th>temp_mean</th>\n",
              "      <th>speed_overall</th>\n",
              "      <th>speed_overall_mean</th>\n",
              "      <th>temp_overall_mean</th>\n",
              "      <th>speed_overall_median</th>\n",
              "      <th>temp_overall_median</th>\n",
              "      <th>speed_overall_std</th>\n",
              "      <th>temp_overall_std</th>\n",
              "    </tr>\n",
              "  </thead>\n",
              "  <tbody>\n",
              "    <tr>\n",
              "      <th>288</th>\n",
              "      <td>2020-09-01 06:05:00+05:30</td>\n",
              "      <td>01-09-2020</td>\n",
              "      <td>06:05:00</td>\n",
              "      <td>27.59</td>\n",
              "      <td>27.580</td>\n",
              "      <td>7.37</td>\n",
              "      <td>7.390</td>\n",
              "      <td>6</td>\n",
              "      <td>5</td>\n",
              "      <td>0</td>\n",
              "      <td>7.374545</td>\n",
              "      <td>27.577273</td>\n",
              "      <td>5.15561</td>\n",
              "      <td>5.15561</td>\n",
              "      <td>29.538144</td>\n",
              "      <td>5.04</td>\n",
              "      <td>29.62</td>\n",
              "      <td>1.781745</td>\n",
              "      <td>1.01153</td>\n",
              "    </tr>\n",
              "    <tr>\n",
              "      <th>289</th>\n",
              "      <td>2020-09-01 06:10:00+05:30</td>\n",
              "      <td>01-09-2020</td>\n",
              "      <td>06:10:00</td>\n",
              "      <td>27.58</td>\n",
              "      <td>27.580</td>\n",
              "      <td>7.39</td>\n",
              "      <td>7.390</td>\n",
              "      <td>6</td>\n",
              "      <td>10</td>\n",
              "      <td>0</td>\n",
              "      <td>7.374545</td>\n",
              "      <td>27.577273</td>\n",
              "      <td>5.15561</td>\n",
              "      <td>5.15561</td>\n",
              "      <td>29.538144</td>\n",
              "      <td>5.04</td>\n",
              "      <td>29.62</td>\n",
              "      <td>1.781745</td>\n",
              "      <td>1.01153</td>\n",
              "    </tr>\n",
              "    <tr>\n",
              "      <th>290</th>\n",
              "      <td>2020-09-01 06:15:00+05:30</td>\n",
              "      <td>01-09-2020</td>\n",
              "      <td>06:15:00</td>\n",
              "      <td>27.58</td>\n",
              "      <td>27.580</td>\n",
              "      <td>7.40</td>\n",
              "      <td>7.390</td>\n",
              "      <td>6</td>\n",
              "      <td>15</td>\n",
              "      <td>0</td>\n",
              "      <td>7.374545</td>\n",
              "      <td>27.577273</td>\n",
              "      <td>5.15561</td>\n",
              "      <td>5.15561</td>\n",
              "      <td>29.538144</td>\n",
              "      <td>5.04</td>\n",
              "      <td>29.62</td>\n",
              "      <td>1.781745</td>\n",
              "      <td>1.01153</td>\n",
              "    </tr>\n",
              "    <tr>\n",
              "      <th>291</th>\n",
              "      <td>2020-09-01 06:20:00+05:30</td>\n",
              "      <td>01-09-2020</td>\n",
              "      <td>06:20:00</td>\n",
              "      <td>27.57</td>\n",
              "      <td>27.580</td>\n",
              "      <td>7.41</td>\n",
              "      <td>7.390</td>\n",
              "      <td>6</td>\n",
              "      <td>20</td>\n",
              "      <td>0</td>\n",
              "      <td>7.374545</td>\n",
              "      <td>27.577273</td>\n",
              "      <td>5.15561</td>\n",
              "      <td>5.15561</td>\n",
              "      <td>29.538144</td>\n",
              "      <td>5.04</td>\n",
              "      <td>29.62</td>\n",
              "      <td>1.781745</td>\n",
              "      <td>1.01153</td>\n",
              "    </tr>\n",
              "    <tr>\n",
              "      <th>292</th>\n",
              "      <td>2020-09-01 06:25:00+05:30</td>\n",
              "      <td>01-09-2020</td>\n",
              "      <td>06:25:00</td>\n",
              "      <td>27.57</td>\n",
              "      <td>27.580</td>\n",
              "      <td>7.42</td>\n",
              "      <td>7.390</td>\n",
              "      <td>6</td>\n",
              "      <td>25</td>\n",
              "      <td>0</td>\n",
              "      <td>7.374545</td>\n",
              "      <td>27.577273</td>\n",
              "      <td>5.15561</td>\n",
              "      <td>5.15561</td>\n",
              "      <td>29.538144</td>\n",
              "      <td>5.04</td>\n",
              "      <td>29.62</td>\n",
              "      <td>1.781745</td>\n",
              "      <td>1.01153</td>\n",
              "    </tr>\n",
              "    <tr>\n",
              "      <th>...</th>\n",
              "      <td>...</td>\n",
              "      <td>...</td>\n",
              "      <td>...</td>\n",
              "      <td>...</td>\n",
              "      <td>...</td>\n",
              "      <td>...</td>\n",
              "      <td>...</td>\n",
              "      <td>...</td>\n",
              "      <td>...</td>\n",
              "      <td>...</td>\n",
              "      <td>...</td>\n",
              "      <td>...</td>\n",
              "      <td>...</td>\n",
              "      <td>...</td>\n",
              "      <td>...</td>\n",
              "      <td>...</td>\n",
              "      <td>...</td>\n",
              "      <td>...</td>\n",
              "      <td>...</td>\n",
              "    </tr>\n",
              "    <tr>\n",
              "      <th>2947</th>\n",
              "      <td>2020-10-20 11:40:00+05:30</td>\n",
              "      <td>20-10-2020</td>\n",
              "      <td>11:40:00</td>\n",
              "      <td>30.24</td>\n",
              "      <td>30.225</td>\n",
              "      <td>3.10</td>\n",
              "      <td>2.985</td>\n",
              "      <td>11</td>\n",
              "      <td>40</td>\n",
              "      <td>0</td>\n",
              "      <td>3.007500</td>\n",
              "      <td>30.227500</td>\n",
              "      <td>5.15561</td>\n",
              "      <td>5.15561</td>\n",
              "      <td>29.538144</td>\n",
              "      <td>5.04</td>\n",
              "      <td>29.62</td>\n",
              "      <td>1.781745</td>\n",
              "      <td>1.01153</td>\n",
              "    </tr>\n",
              "    <tr>\n",
              "      <th>2948</th>\n",
              "      <td>2020-10-20 11:45:00+05:30</td>\n",
              "      <td>20-10-2020</td>\n",
              "      <td>11:45:00</td>\n",
              "      <td>30.25</td>\n",
              "      <td>30.225</td>\n",
              "      <td>3.14</td>\n",
              "      <td>2.985</td>\n",
              "      <td>11</td>\n",
              "      <td>45</td>\n",
              "      <td>0</td>\n",
              "      <td>3.007500</td>\n",
              "      <td>30.227500</td>\n",
              "      <td>5.15561</td>\n",
              "      <td>5.15561</td>\n",
              "      <td>29.538144</td>\n",
              "      <td>5.04</td>\n",
              "      <td>29.62</td>\n",
              "      <td>1.781745</td>\n",
              "      <td>1.01153</td>\n",
              "    </tr>\n",
              "    <tr>\n",
              "      <th>2949</th>\n",
              "      <td>2020-10-20 11:50:00+05:30</td>\n",
              "      <td>20-10-2020</td>\n",
              "      <td>11:50:00</td>\n",
              "      <td>30.26</td>\n",
              "      <td>30.225</td>\n",
              "      <td>3.19</td>\n",
              "      <td>2.985</td>\n",
              "      <td>11</td>\n",
              "      <td>50</td>\n",
              "      <td>0</td>\n",
              "      <td>3.007500</td>\n",
              "      <td>30.227500</td>\n",
              "      <td>5.15561</td>\n",
              "      <td>5.15561</td>\n",
              "      <td>29.538144</td>\n",
              "      <td>5.04</td>\n",
              "      <td>29.62</td>\n",
              "      <td>1.781745</td>\n",
              "      <td>1.01153</td>\n",
              "    </tr>\n",
              "    <tr>\n",
              "      <th>2950</th>\n",
              "      <td>2020-10-20 11:55:00+05:30</td>\n",
              "      <td>20-10-2020</td>\n",
              "      <td>11:55:00</td>\n",
              "      <td>30.26</td>\n",
              "      <td>30.225</td>\n",
              "      <td>3.24</td>\n",
              "      <td>2.985</td>\n",
              "      <td>11</td>\n",
              "      <td>55</td>\n",
              "      <td>0</td>\n",
              "      <td>3.007500</td>\n",
              "      <td>30.227500</td>\n",
              "      <td>5.15561</td>\n",
              "      <td>5.15561</td>\n",
              "      <td>29.538144</td>\n",
              "      <td>5.04</td>\n",
              "      <td>29.62</td>\n",
              "      <td>1.781745</td>\n",
              "      <td>1.01153</td>\n",
              "    </tr>\n",
              "    <tr>\n",
              "      <th>2951</th>\n",
              "      <td>2020-10-20 12:00:00+05:30</td>\n",
              "      <td>20-10-2020</td>\n",
              "      <td>12:00:00</td>\n",
              "      <td>30.27</td>\n",
              "      <td>30.270</td>\n",
              "      <td>3.28</td>\n",
              "      <td>3.280</td>\n",
              "      <td>12</td>\n",
              "      <td>0</td>\n",
              "      <td>0</td>\n",
              "      <td>3.280000</td>\n",
              "      <td>30.270000</td>\n",
              "      <td>5.15561</td>\n",
              "      <td>5.15561</td>\n",
              "      <td>29.538144</td>\n",
              "      <td>5.04</td>\n",
              "      <td>29.62</td>\n",
              "      <td>1.781745</td>\n",
              "      <td>1.01153</td>\n",
              "    </tr>\n",
              "  </tbody>\n",
              "</table>\n",
              "<p>2664 rows × 19 columns</p>\n",
              "</div>"
            ],
            "text/plain": [
              "                      date_time  ... temp_overall_std\n",
              "288   2020-09-01 06:05:00+05:30  ...          1.01153\n",
              "289   2020-09-01 06:10:00+05:30  ...          1.01153\n",
              "290   2020-09-01 06:15:00+05:30  ...          1.01153\n",
              "291   2020-09-01 06:20:00+05:30  ...          1.01153\n",
              "292   2020-09-01 06:25:00+05:30  ...          1.01153\n",
              "...                         ...  ...              ...\n",
              "2947  2020-10-20 11:40:00+05:30  ...          1.01153\n",
              "2948  2020-10-20 11:45:00+05:30  ...          1.01153\n",
              "2949  2020-10-20 11:50:00+05:30  ...          1.01153\n",
              "2950  2020-10-20 11:55:00+05:30  ...          1.01153\n",
              "2951  2020-10-20 12:00:00+05:30  ...          1.01153\n",
              "\n",
              "[2664 rows x 19 columns]"
            ]
          },
          "execution_count": 109,
          "metadata": {
            "tags": []
          },
          "output_type": "execute_result"
        }
      ],
      "source": [
        "datac.iloc[288:]"
      ]
    },
    {
      "cell_type": "code",
      "execution_count": null,
      "metadata": {
        "colab": {
          "base_uri": "https://localhost:8080/"
        },
        "id": "Si43zoXp-BQR",
        "outputId": "a478eb76-09af-455a-8aef-a8e6b545effb"
      },
      "outputs": [
        {
          "data": {
            "text/plain": [
              "05-09-2020    504\n",
              "12-09-2020    216\n",
              "18-09-2020    216\n",
              "06-10-2020     72\n",
              "25-09-2020     72\n",
              "20-10-2020     72\n",
              "01-10-2020     72\n",
              "16-10-2020     72\n",
              "10-10-2020     72\n",
              "22-09-2020     72\n",
              "23-08-2020     72\n",
              "20-08-2020     72\n",
              "01-09-2020     72\n",
              "05-10-2020     72\n",
              "02-10-2020     72\n",
              "25-08-2020     72\n",
              "04-10-2020     72\n",
              "17-10-2020     72\n",
              "08-10-2020     72\n",
              "09-10-2020     72\n",
              "23-09-2020     72\n",
              "07-10-2020     72\n",
              "19-10-2020     72\n",
              "18-10-2020     72\n",
              "11-10-2020     72\n",
              "24-09-2020     72\n",
              "30-09-2020     72\n",
              "24-08-2020     72\n",
              "03-09-2020     72\n",
              "12-10-2020     72\n",
              "03-10-2020     72\n",
              "Name: date, dtype: int64"
            ]
          },
          "execution_count": 88,
          "metadata": {
            "tags": []
          },
          "output_type": "execute_result"
        }
      ],
      "source": [
        "datac[\"date\"].value_counts()"
      ]
    },
    {
      "cell_type": "code",
      "execution_count": null,
      "metadata": {
        "colab": {
          "base_uri": "https://localhost:8080/"
        },
        "id": "QdhtLiVv_XJc",
        "outputId": "384c5100-6317-413f-cf33-7dc6c8327b2f"
      },
      "outputs": [
        {
          "data": {
            "text/plain": [
              "Index(['date_time', 'date', 'time', 'temp', 'temp_median', 'speed',\n",
              "       'speed_median', 'hour', 'min', 'sec', 'speed_mean', 'temp_mean',\n",
              "       'speed_overall', 'speed_overall_mean', 'temp_overall_mean',\n",
              "       'speed_overall_median', 'temp_overall_median', 'speed_overall_std',\n",
              "       'temp_overall_std'],\n",
              "      dtype='object')"
            ]
          },
          "execution_count": 111,
          "metadata": {
            "tags": []
          },
          "output_type": "execute_result"
        }
      ],
      "source": [
        "datac.columns"
      ]
    },
    {
      "cell_type": "code",
      "execution_count": null,
      "metadata": {
        "id": "f8h0wkq-Iixc"
      },
      "outputs": [],
      "source": [
        "X=datac[['temp', 'temp_median', 'speed',\n",
        "       'speed_median', 'hour', 'min', 'sec', 'speed_mean', 'temp_mean',\n",
        "       'speed_overall', 'speed_overall_mean', 'temp_overall_mean',\n",
        "       'speed_overall_median', 'temp_overall_median', 'speed_overall_std',\n",
        "       'temp_overall_std']]"
      ]
    },
    {
      "cell_type": "code",
      "execution_count": null,
      "metadata": {
        "id": "i4yfPT0-NBag"
      },
      "outputs": [],
      "source": [
        "\n",
        "Xtrain, Xtest, Ytrain, Ytest = train_test_split(X, Y, test_size=0.1, random_state=42)"
      ]
    },
    {
      "cell_type": "code",
      "execution_count": null,
      "metadata": {
        "colab": {
          "base_uri": "https://localhost:8080/"
        },
        "id": "vOLHiwVbOudV",
        "outputId": "23b8dbab-42ef-4eac-9cf4-749a35855b78"
      },
      "outputs": [
        {
          "data": {
            "text/plain": [
              "array([166, 359,   0, ..., 190, 306, 372])"
            ]
          },
          "execution_count": 127,
          "metadata": {
            "tags": []
          },
          "output_type": "execute_result"
        }
      ],
      "source": [
        "Ytrain.values"
      ]
    },
    {
      "cell_type": "code",
      "execution_count": null,
      "metadata": {
        "id": "HKarUK_INjVk"
      },
      "outputs": [],
      "source": [
        "trainscaler=MinMaxScaler()\n",
        "testscaler=MinMaxScaler()\n",
        "Xtrain=trainscaler.fit_transform(Xtrain)\n",
        "Xtest=trainscaler.transform(Xtest)\n",
        "Ytrain=testscaler.fit_transform(Ytrain.values.reshape(-1,1))\n"
      ]
    },
    {
      "cell_type": "code",
      "execution_count": null,
      "metadata": {
        "id": "R97A0HL8OF1O"
      },
      "outputs": [],
      "source": [
        "Ytest=testscaler.transform(Ytest.values.reshape(-1,1))"
      ]
    },
    {
      "cell_type": "code",
      "execution_count": null,
      "metadata": {
        "id": "A9JNyV0GPEQz"
      },
      "outputs": [],
      "source": [
        "from sklearn.ensemble import RandomForestRegressor\n",
        "from sklearn.model_selection import RandomizedSearchCV"
      ]
    },
    {
      "cell_type": "code",
      "execution_count": null,
      "metadata": {
        "id": "me9hZS7LQXFz"
      },
      "outputs": [],
      "source": [
        "rfr=RandomForestRegressor(random_state=0)"
      ]
    },
    {
      "cell_type": "code",
      "execution_count": null,
      "metadata": {
        "id": "Z5c3JnhCUBA4"
      },
      "outputs": [],
      "source": [
        "random_grid={'bootstrap': [True, False],\n",
        " 'max_depth': [5,10, 15, 20,25,30],\n",
        " 'max_features': ['auto', 'sqrt'],\n",
        " 'min_samples_leaf': [1, 2, 4],\n",
        " 'min_samples_split': [2, 5, 10],\n",
        " 'n_estimators': [5,10,20,30,60,10]}"
      ]
    },
    {
      "cell_type": "code",
      "execution_count": null,
      "metadata": {
        "id": "xqpEgU8xUFPj"
      },
      "outputs": [],
      "source": [
        "rcv = RandomizedSearchCV(estimator = rfr, param_distributions = random_grid, n_iter = 100, scoring=\"r2\",cv = 4, verbose=2, random_state=42, n_jobs = -1)"
      ]
    },
    {
      "cell_type": "code",
      "execution_count": null,
      "metadata": {
        "id": "Qt0mFPmxUlf1"
      },
      "outputs": [],
      "source": [
        "rcv.fit(Xtrain,Ytrain)"
      ]
    },
    {
      "cell_type": "code",
      "execution_count": null,
      "metadata": {
        "colab": {
          "base_uri": "https://localhost:8080/"
        },
        "id": "fdqX9-p6V4nd",
        "outputId": "c05b5f4b-5a75-41a0-f451-98968cddeca1"
      },
      "outputs": [
        {
          "data": {
            "text/plain": [
              "RandomForestRegressor(bootstrap=False, ccp_alpha=0.0, criterion='mse',\n",
              "                      max_depth=10, max_features='sqrt', max_leaf_nodes=None,\n",
              "                      max_samples=None, min_impurity_decrease=0.0,\n",
              "                      min_impurity_split=None, min_samples_leaf=4,\n",
              "                      min_samples_split=5, min_weight_fraction_leaf=0.0,\n",
              "                      n_estimators=30, n_jobs=None, oob_score=False,\n",
              "                      random_state=0, verbose=0, warm_start=False)"
            ]
          },
          "execution_count": 144,
          "metadata": {
            "tags": []
          },
          "output_type": "execute_result"
        }
      ],
      "source": [
        "best_estimator=rcv.best_estimator_\n",
        "best_estimator"
      ]
    },
    {
      "cell_type": "code",
      "execution_count": null,
      "metadata": {
        "id": "Asyqyr27WVlt"
      },
      "outputs": [],
      "source": [
        "rfr=RandomForestRegressor(bootstrap=False, ccp_alpha=0.0, criterion='mse',\n",
        "                      max_depth=10, max_features='sqrt', max_leaf_nodes=None,\n",
        "                      max_samples=None, min_impurity_decrease=0.0,\n",
        "                      min_impurity_split=None, min_samples_leaf=4,\n",
        "                      min_samples_split=5, min_weight_fraction_leaf=0.0,\n",
        "                      n_estimators=30, n_jobs=None, oob_score=False,\n",
        "                      random_state=0, verbose=0, warm_start=False)"
      ]
    },
    {
      "cell_type": "code",
      "execution_count": null,
      "metadata": {
        "colab": {
          "base_uri": "https://localhost:8080/"
        },
        "id": "2ifXc2ecXLIp",
        "outputId": "23ce02ba-b21b-44b4-8cf7-741e4ada71c5"
      },
      "outputs": [
        {
          "data": {
            "text/plain": [
              "RandomForestRegressor(bootstrap=False, ccp_alpha=0.0, criterion='mse',\n",
              "                      max_depth=10, max_features='sqrt', max_leaf_nodes=None,\n",
              "                      max_samples=None, min_impurity_decrease=0.0,\n",
              "                      min_impurity_split=None, min_samples_leaf=4,\n",
              "                      min_samples_split=5, min_weight_fraction_leaf=0.0,\n",
              "                      n_estimators=30, n_jobs=None, oob_score=False,\n",
              "                      random_state=0, verbose=0, warm_start=False)"
            ]
          },
          "execution_count": 149,
          "metadata": {
            "tags": []
          },
          "output_type": "execute_result"
        }
      ],
      "source": [
        "rfr.fit(Xtrain,Ytrain.reshape(2656,))"
      ]
    },
    {
      "cell_type": "code",
      "execution_count": null,
      "metadata": {
        "id": "aFKikD1nYFUD"
      },
      "outputs": [],
      "source": [
        ""
      ]
    },
    {
      "cell_type": "code",
      "execution_count": null,
      "metadata": {
        "colab": {
          "base_uri": "https://localhost:8080/"
        },
        "id": "LwV0Wy_DXUDI",
        "outputId": "81d8c955-6ecb-4277-8271-2e5363b88a3e"
      },
      "outputs": [
        {
          "name": "stdout",
          "output_type": "stream",
          "text": [
            "train_score_r2-->0.7660003614201152\n"
          ]
        }
      ],
      "source": [
        "train_score=rfr.score(Xtrain,Ytrain.reshape(2656,))\n",
        "print(\"train_score_r2-->\"+str(train_score))"
      ]
    },
    {
      "cell_type": "code",
      "execution_count": null,
      "metadata": {
        "colab": {
          "base_uri": "https://localhost:8080/"
        },
        "id": "qCW02kgFXjV-",
        "outputId": "10794c04-0711-4efc-f15a-d47d0d092ee8"
      },
      "outputs": [
        {
          "data": {
            "text/plain": [
              "(array([0.42697077, 0.93805709, 0.27017003, ..., 0.51755721, 0.28708232,\n",
              "        0.47087449]), array([[0.44504021],\n",
              "        [0.96246649],\n",
              "        [0.        ],\n",
              "        ...,\n",
              "        [0.50938338],\n",
              "        [0.82037534],\n",
              "        [0.99731903]]))"
            ]
          },
          "execution_count": 152,
          "metadata": {
            "tags": []
          },
          "output_type": "execute_result"
        }
      ],
      "source": [
        "(rfr.predict(Xtrain),Ytrain"
      ]
    },
    {
      "cell_type": "code",
      "execution_count": null,
      "metadata": {
        "colab": {
          "base_uri": "https://localhost:8080/"
        },
        "id": "SVVXgMI6YPrH",
        "outputId": "dfc1a7e3-b4fa-4166-fc93-57ef11b34a54"
      },
      "outputs": [
        {
          "name": "stdout",
          "output_type": "stream",
          "text": [
            "test_score_r2-->0.7861874686471999\n"
          ]
        }
      ],
      "source": [
        "test_score=rfr.score(Xtest,Ytest.reshape(296,))\n",
        "print(\"test_score_r2-->\"+str(test_score))"
      ]
    },
    {
      "cell_type": "code",
      "execution_count": null,
      "metadata": {
        "id": "rzBjLcuQab-V"
      },
      "outputs": [],
      "source": [
        ""
      ]
    }
  ],
  "metadata": {
    "colab": {
      "name": "Random_Forest_weather_data_Feb23.ipynb",
      "provenance": []
    },
    "kernelspec": {
      "display_name": "Python 3",
      "language": "python",
      "name": "python3"
    },
    "language_info": {
      "codemirror_mode": {
        "name": "ipython",
        "version": 3
      },
      "file_extension": ".py",
      "mimetype": "text/x-python",
      "name": "python",
      "nbconvert_exporter": "python",
      "pygments_lexer": "ipython3",
      "version": "3.7.9"
    }
  },
  "nbformat": 4,
  "nbformat_minor": 0
}