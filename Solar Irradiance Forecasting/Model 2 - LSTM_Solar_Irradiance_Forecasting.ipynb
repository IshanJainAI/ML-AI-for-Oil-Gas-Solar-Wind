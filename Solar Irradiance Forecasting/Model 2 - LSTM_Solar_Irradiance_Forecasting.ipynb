{
  "cells": [
    {
      "cell_type": "code",
      "execution_count": null,
      "metadata": {
        "id": "iQeE040oKDAs"
      },
      "outputs": [],
      "source": [
        "#import libaries\n",
        "import matplotlib.pyplot as plt\n",
        "import numpy as np\n",
        "import pandas as pd\n",
        "import seaborn as sns\n",
        "plt.style.use('seaborn')\n",
        "import tensorflow as tf\n",
        "from tensorflow import keras\n",
        "from tensorflow.keras import layers\n",
        "#import tensorflow_docs as tfdocs\n",
        "#import tensorflow_docs.plots\n",
        "#import tensorflow_docs.modeling\n"
      ]
    },
    {
      "cell_type": "code",
      "execution_count": null,
      "metadata": {
        "id": "HtHGgLSuKEoq"
      },
      "outputs": [],
      "source": [
        "from sklearn.decomposition import PCA\n",
        "from sklearn import metrics\n",
        "from tensorflow.keras.models import Sequential\n",
        "from tensorflow.keras.layers import Dense\n",
        "from tensorflow.keras.layers import LSTM\n",
        "from tensorflow.keras.layers import Dropout\n",
        "from tensorflow.keras.layers import TimeDistributed\n",
        "from tensorflow.keras.layers import Bidirectional\n",
        "from tensorflow.keras.layers import Flatten\n",
        "from tensorflow.keras.layers import Conv1D\n",
        "from tensorflow.keras.layers import MaxPooling1D"
      ]
    },
    {
      "cell_type": "code",
      "execution_count": null,
      "metadata": {
        "id": "c9AC3URLKLMV",
        "outputId": "4912d311-efc8-4dcf-eeec-1c989638cf71"
      },
      "outputs": [
        {
          "name": "stderr",
          "output_type": "stream",
          "text": [
            "Using TensorFlow backend.\n"
          ]
        }
      ],
      "source": [
        "#from sklearn.metrics import max_error\n",
        "from sklearn.metrics import r2_score\n",
        "from sklearn.metrics import mean_absolute_error\n",
        "from sklearn.metrics import mean_squared_error\n",
        "from sklearn.metrics import explained_variance_score\n",
        "from sklearn.preprocessing import StandardScaler, MinMaxScaler, Normalizer\n",
        "from sklearn.model_selection import train_test_split\n",
        "from sklearn.model_selection import cross_val_score\n",
        "from keras.layers import Dense, Dropout\n",
        "from keras.optimizers import SGD, Adam\n",
        "from keras.models import Sequential\n",
        "from collections import Counter\n",
        "from scipy import stats"
      ]
    },
    {
      "cell_type": "code",
      "execution_count": null,
      "metadata": {
        "id": "9kJgeqrKLFdq"
      },
      "outputs": [],
      "source": [
        "dataw=pd.read_csv(\"weather_data_from_plant.csv\")"
      ]
    },
    {
      "cell_type": "code",
      "execution_count": null,
      "metadata": {
        "colab": {
          "base_uri": "https://localhost:8080/",
          "height": 191
        },
        "id": "oltoYYdPLSe9",
        "outputId": "7c79796d-f2d9-454a-ae9a-2294ddfbdb50"
      },
      "outputs": [
        {
          "data": {
            "text/html": [
              "<div>\n",
              "<style scoped>\n",
              "    .dataframe tbody tr th:only-of-type {\n",
              "        vertical-align: middle;\n",
              "    }\n",
              "\n",
              "    .dataframe tbody tr th {\n",
              "        vertical-align: top;\n",
              "    }\n",
              "\n",
              "    .dataframe thead th {\n",
              "        text-align: right;\n",
              "    }\n",
              "</style>\n",
              "<table border=\"1\" class=\"dataframe\">\n",
              "  <thead>\n",
              "    <tr style=\"text-align: right;\">\n",
              "      <th></th>\n",
              "      <th>date_time</th>\n",
              "      <th>ambient_temp</th>\n",
              "      <th>wind_speed</th>\n",
              "      <th>irradiance</th>\n",
              "    </tr>\n",
              "  </thead>\n",
              "  <tbody>\n",
              "    <tr>\n",
              "      <th>0</th>\n",
              "      <td>2020-08-21T06:26:01.000Z</td>\n",
              "      <td>28.185780</td>\n",
              "      <td>0.28164</td>\n",
              "      <td>0.000000</td>\n",
              "    </tr>\n",
              "    <tr>\n",
              "      <th>1</th>\n",
              "      <td>2020-08-21T06:27:01.000Z</td>\n",
              "      <td>28.185780</td>\n",
              "      <td>0.28164</td>\n",
              "      <td>0.000000</td>\n",
              "    </tr>\n",
              "    <tr>\n",
              "      <th>2</th>\n",
              "      <td>2020-08-21T06:28:01.000Z</td>\n",
              "      <td>28.185780</td>\n",
              "      <td>0.28164</td>\n",
              "      <td>0.000000</td>\n",
              "    </tr>\n",
              "    <tr>\n",
              "      <th>3</th>\n",
              "      <td>2020-08-21T06:29:01.000Z</td>\n",
              "      <td>28.185780</td>\n",
              "      <td>0.28164</td>\n",
              "      <td>0.000000</td>\n",
              "    </tr>\n",
              "    <tr>\n",
              "      <th>4</th>\n",
              "      <td>2020-08-21T06:30:01.000Z</td>\n",
              "      <td>28.170719</td>\n",
              "      <td>0.28164</td>\n",
              "      <td>3.442247</td>\n",
              "    </tr>\n",
              "  </tbody>\n",
              "</table>\n",
              "</div>"
            ],
            "text/plain": [
              "                  date_time  ambient_temp  wind_speed  irradiance\n",
              "0  2020-08-21T06:26:01.000Z     28.185780     0.28164    0.000000\n",
              "1  2020-08-21T06:27:01.000Z     28.185780     0.28164    0.000000\n",
              "2  2020-08-21T06:28:01.000Z     28.185780     0.28164    0.000000\n",
              "3  2020-08-21T06:29:01.000Z     28.185780     0.28164    0.000000\n",
              "4  2020-08-21T06:30:01.000Z     28.170719     0.28164    3.442247"
            ]
          },
          "execution_count": 11,
          "metadata": {},
          "output_type": "execute_result"
        }
      ],
      "source": [
        "dataw.head()"
      ]
    },
    {
      "cell_type": "code",
      "execution_count": null,
      "metadata": {
        "id": "rlmVnYJy83u6"
      },
      "outputs": [],
      "source": [
        "import time\n",
        "import datetime\n",
        "def convert_to_unix(s):\n",
        "    return time.mktime(datetime.datetime.strptime(s, \"%Y-%m-%dT%H:%M:%S.000Z\").timetuple())"
      ]
    },
    {
      "cell_type": "code",
      "execution_count": null,
      "metadata": {
        "id": "K4HRDa8D83u7"
      },
      "outputs": [],
      "source": [
        "dataw[\"unix_time\"]=[float(convert_to_unix(x)) for x in dataw['date_time'].values]\n",
        "dataw[\"unix_time\"]=dataw[\"unix_time\"].apply(lambda x: '%.0f' % x).astype(\"int\")"
      ]
    },
    {
      "cell_type": "code",
      "execution_count": null,
      "metadata": {
        "id": "9esDioKbLUFH"
      },
      "outputs": [],
      "source": [
        "dataw[\"date\"]=dataw[\"date_time\"].apply(lambda x:x.split(\"T\")[0])\n",
        "dataw[\"year\"]=dataw[\"date\"].apply(lambda x:x.split(\"-\")[0])\n",
        "dataw[\"month\"]=dataw[\"date\"].apply(lambda x:x.split(\"-\")[1])\n",
        "dataw[\"day\"]=dataw[\"date\"].apply(lambda x:x.split(\"-\")[2])\n",
        "dataw[\"time\"]=dataw[\"date_time\"].apply(lambda x:x.split(\"T\")[1].strip(\".000Z\"))\n",
        "dataw[\"hr\"]=dataw[\"time\"].apply(lambda x:x.split(\":\")[0])\n",
        "dataw[\"min\"]=dataw[\"time\"].apply(lambda x:x.split(\":\")[1])\n",
        "dataw[\"sec\"]=dataw[\"time\"].apply(lambda x:x.split(\":\")[2])"
      ]
    },
    {
      "cell_type": "code",
      "execution_count": null,
      "metadata": {
        "id": "3_4Gtmko83u8"
      },
      "outputs": [],
      "source": [
        "data=dataw[[\"unix_time\",\"ambient_temp\",\"wind_speed\",\"irradiance\"]]"
      ]
    },
    {
      "cell_type": "code",
      "execution_count": null,
      "metadata": {
        "colab": {
          "base_uri": "https://localhost:8080/"
        },
        "id": "7PFIJ8Fa83u9",
        "outputId": "bb2df5c3-a5bb-4e2a-ccbc-a253e0aad628"
      },
      "outputs": [
        {
          "data": {
            "text/plain": [
              "6884"
            ]
          },
          "execution_count": 16,
          "metadata": {},
          "output_type": "execute_result"
        }
      ],
      "source": [
        "len(np.arange(1598016361,1603224062,60))-79912"
      ]
    },
    {
      "cell_type": "code",
      "execution_count": null,
      "metadata": {
        "colab": {
          "base_uri": "https://localhost:8080/"
        },
        "id": "kbomYfTp83u-",
        "outputId": "a2d40606-8fc8-43c1-91a2-f781354becdb"
      },
      "outputs": [
        {
          "data": {
            "text/plain": [
              "6884"
            ]
          },
          "execution_count": 17,
          "metadata": {},
          "output_type": "execute_result"
        }
      ],
      "source": [
        "len(set(np.arange(1598016361,1603224062,60))-set(data[\"unix_time\"]))"
      ]
    },
    {
      "cell_type": "code",
      "execution_count": null,
      "metadata": {
        "id": "uwrq4iIg83u-"
      },
      "outputs": [],
      "source": [
        "miss=set(np.arange(1598016361,1603224062,60))-set(data[\"unix_time\"])"
      ]
    },
    {
      "cell_type": "code",
      "execution_count": null,
      "metadata": {
        "id": "rTggqh0S83u-"
      },
      "outputs": [],
      "source": [
        "mis=[]\n",
        "for i in miss:\n",
        "    mis.append([i,np.nan,np.nan,np.nan])\n",
        "mis=pd.DataFrame(mis,columns=data.columns)\n",
        "data=data.append(mis,ignore_index=True)"
      ]
    },
    {
      "cell_type": "code",
      "execution_count": null,
      "metadata": {
        "id": "uMme2i9V83u_"
      },
      "outputs": [],
      "source": [
        "data=data.sort_values(by=[\"unix_time\"],ignore_index=True)"
      ]
    },
    {
      "cell_type": "code",
      "execution_count": null,
      "metadata": {
        "id": "r3mtXXf283u_"
      },
      "outputs": [],
      "source": [
        "data[\"time_bin\"]=pd.Series((np.array(data[\"unix_time\"].values)-1598016361)//1800)\n"
      ]
    },
    {
      "cell_type": "code",
      "execution_count": null,
      "metadata": {
        "id": "JjYXUX8z83vB"
      },
      "outputs": [],
      "source": [
        "data[\"hour\"]=pd.to_datetime(data[\"unix_time\"],unit=\"s\").dt.hour\n",
        "data[\"min\"]=pd.to_datetime(data[\"unix_time\"],unit=\"s\").dt.minute\n",
        "data[\"sec\"]=pd.to_datetime(data[\"unix_time\"],unit=\"s\").dt.second"
      ]
    },
    {
      "cell_type": "code",
      "execution_count": null,
      "metadata": {
        "colab": {
          "base_uri": "https://localhost:8080/",
          "height": 191
        },
        "id": "Us5ckQfe83vC",
        "outputId": "ff975193-fb02-4719-8fc5-80cd18a0f3ed"
      },
      "outputs": [
        {
          "data": {
            "text/html": [
              "<div>\n",
              "<style scoped>\n",
              "    .dataframe tbody tr th:only-of-type {\n",
              "        vertical-align: middle;\n",
              "    }\n",
              "\n",
              "    .dataframe tbody tr th {\n",
              "        vertical-align: top;\n",
              "    }\n",
              "\n",
              "    .dataframe thead th {\n",
              "        text-align: right;\n",
              "    }\n",
              "</style>\n",
              "<table border=\"1\" class=\"dataframe\">\n",
              "  <thead>\n",
              "    <tr style=\"text-align: right;\">\n",
              "      <th></th>\n",
              "      <th>unix_time</th>\n",
              "      <th>ambient_temp</th>\n",
              "      <th>wind_speed</th>\n",
              "      <th>irradiance</th>\n",
              "      <th>time_bin</th>\n",
              "      <th>hour</th>\n",
              "      <th>min</th>\n",
              "      <th>sec</th>\n",
              "    </tr>\n",
              "  </thead>\n",
              "  <tbody>\n",
              "    <tr>\n",
              "      <th>0</th>\n",
              "      <td>1598016361</td>\n",
              "      <td>28.185780</td>\n",
              "      <td>0.28164</td>\n",
              "      <td>0.000000</td>\n",
              "      <td>0</td>\n",
              "      <td>13</td>\n",
              "      <td>26</td>\n",
              "      <td>1</td>\n",
              "    </tr>\n",
              "    <tr>\n",
              "      <th>1</th>\n",
              "      <td>1598016421</td>\n",
              "      <td>28.185780</td>\n",
              "      <td>0.28164</td>\n",
              "      <td>0.000000</td>\n",
              "      <td>0</td>\n",
              "      <td>13</td>\n",
              "      <td>27</td>\n",
              "      <td>1</td>\n",
              "    </tr>\n",
              "    <tr>\n",
              "      <th>2</th>\n",
              "      <td>1598016481</td>\n",
              "      <td>28.185780</td>\n",
              "      <td>0.28164</td>\n",
              "      <td>0.000000</td>\n",
              "      <td>0</td>\n",
              "      <td>13</td>\n",
              "      <td>28</td>\n",
              "      <td>1</td>\n",
              "    </tr>\n",
              "    <tr>\n",
              "      <th>3</th>\n",
              "      <td>1598016541</td>\n",
              "      <td>28.185780</td>\n",
              "      <td>0.28164</td>\n",
              "      <td>0.000000</td>\n",
              "      <td>0</td>\n",
              "      <td>13</td>\n",
              "      <td>29</td>\n",
              "      <td>1</td>\n",
              "    </tr>\n",
              "    <tr>\n",
              "      <th>4</th>\n",
              "      <td>1598016601</td>\n",
              "      <td>28.170719</td>\n",
              "      <td>0.28164</td>\n",
              "      <td>3.442247</td>\n",
              "      <td>0</td>\n",
              "      <td>13</td>\n",
              "      <td>30</td>\n",
              "      <td>1</td>\n",
              "    </tr>\n",
              "  </tbody>\n",
              "</table>\n",
              "</div>"
            ],
            "text/plain": [
              "    unix_time  ambient_temp  wind_speed  irradiance  time_bin  hour  min  sec\n",
              "0  1598016361     28.185780     0.28164    0.000000         0    13   26    1\n",
              "1  1598016421     28.185780     0.28164    0.000000         0    13   27    1\n",
              "2  1598016481     28.185780     0.28164    0.000000         0    13   28    1\n",
              "3  1598016541     28.185780     0.28164    0.000000         0    13   29    1\n",
              "4  1598016601     28.170719     0.28164    3.442247         0    13   30    1"
            ]
          },
          "execution_count": 23,
          "metadata": {},
          "output_type": "execute_result"
        }
      ],
      "source": [
        "data.head()"
      ]
    },
    {
      "cell_type": "code",
      "execution_count": null,
      "metadata": {
        "id": "Cm8GycbJ83vC"
      },
      "outputs": [],
      "source": [
        "Y=data[\"irradiance\"]\n",
        "X=data.drop([\"irradiance\",\"unix_time\"],axis=1)"
      ]
    },
    {
      "cell_type": "code",
      "execution_count": null,
      "metadata": {
        "colab": {
          "base_uri": "https://localhost:8080/"
        },
        "id": "nZW7s2ML83vD",
        "outputId": "5c009138-b8ec-49d8-fc3e-03f6ee701ef9"
      },
      "outputs": [
        {
          "data": {
            "text/plain": [
              "(86796, 6)"
            ]
          },
          "execution_count": 25,
          "metadata": {},
          "output_type": "execute_result"
        }
      ],
      "source": [
        "np.array(X).shape"
      ]
    },
    {
      "cell_type": "code",
      "execution_count": null,
      "metadata": {
        "colab": {
          "base_uri": "https://localhost:8080/",
          "height": 191
        },
        "id": "yRulxK_283vD",
        "outputId": "728a70a2-9e99-4769-a965-3356342496a5"
      },
      "outputs": [
        {
          "data": {
            "text/html": [
              "<div>\n",
              "<style scoped>\n",
              "    .dataframe tbody tr th:only-of-type {\n",
              "        vertical-align: middle;\n",
              "    }\n",
              "\n",
              "    .dataframe tbody tr th {\n",
              "        vertical-align: top;\n",
              "    }\n",
              "\n",
              "    .dataframe thead th {\n",
              "        text-align: right;\n",
              "    }\n",
              "</style>\n",
              "<table border=\"1\" class=\"dataframe\">\n",
              "  <thead>\n",
              "    <tr style=\"text-align: right;\">\n",
              "      <th></th>\n",
              "      <th>ambient_temp</th>\n",
              "      <th>wind_speed</th>\n",
              "      <th>time_bin</th>\n",
              "      <th>hour</th>\n",
              "      <th>min</th>\n",
              "      <th>sec</th>\n",
              "    </tr>\n",
              "  </thead>\n",
              "  <tbody>\n",
              "    <tr>\n",
              "      <th>0</th>\n",
              "      <td>28.185780</td>\n",
              "      <td>0.28164</td>\n",
              "      <td>0</td>\n",
              "      <td>13</td>\n",
              "      <td>26</td>\n",
              "      <td>1</td>\n",
              "    </tr>\n",
              "    <tr>\n",
              "      <th>1</th>\n",
              "      <td>28.185780</td>\n",
              "      <td>0.28164</td>\n",
              "      <td>0</td>\n",
              "      <td>13</td>\n",
              "      <td>27</td>\n",
              "      <td>1</td>\n",
              "    </tr>\n",
              "    <tr>\n",
              "      <th>2</th>\n",
              "      <td>28.185780</td>\n",
              "      <td>0.28164</td>\n",
              "      <td>0</td>\n",
              "      <td>13</td>\n",
              "      <td>28</td>\n",
              "      <td>1</td>\n",
              "    </tr>\n",
              "    <tr>\n",
              "      <th>3</th>\n",
              "      <td>28.185780</td>\n",
              "      <td>0.28164</td>\n",
              "      <td>0</td>\n",
              "      <td>13</td>\n",
              "      <td>29</td>\n",
              "      <td>1</td>\n",
              "    </tr>\n",
              "    <tr>\n",
              "      <th>4</th>\n",
              "      <td>28.170719</td>\n",
              "      <td>0.28164</td>\n",
              "      <td>0</td>\n",
              "      <td>13</td>\n",
              "      <td>30</td>\n",
              "      <td>1</td>\n",
              "    </tr>\n",
              "  </tbody>\n",
              "</table>\n",
              "</div>"
            ],
            "text/plain": [
              "   ambient_temp  wind_speed  time_bin  hour  min  sec\n",
              "0     28.185780     0.28164         0    13   26    1\n",
              "1     28.185780     0.28164         0    13   27    1\n",
              "2     28.185780     0.28164         0    13   28    1\n",
              "3     28.185780     0.28164         0    13   29    1\n",
              "4     28.170719     0.28164         0    13   30    1"
            ]
          },
          "execution_count": 26,
          "metadata": {},
          "output_type": "execute_result"
        }
      ],
      "source": [
        "X.head()"
      ]
    },
    {
      "cell_type": "code",
      "execution_count": null,
      "metadata": {
        "id": "2pwxMuDQ83vE"
      },
      "outputs": [],
      "source": [
        "Y=np.array(Y).reshape(len(Y),1)"
      ]
    },
    {
      "cell_type": "code",
      "execution_count": null,
      "metadata": {
        "id": "xKYr5xNz83vE"
      },
      "outputs": [],
      "source": [
        "#X[\"wind_speed_avg\"]=\n",
        "draft=pd.DataFrame(X.groupby([\"time_bin\"]).mean()[\"wind_speed\"])\n",
        "draft[\"ambient_temp\"]=X.groupby([\"time_bin\"]).mean()[\"ambient_temp\"]\n",
        "draft=draft.fillna(method=\"pad\")\n",
        "X=pd.merge(X,draft,on=\"time_bin\")\n",
        "X.ambient_temp_x.fillna(X.ambient_temp_y,inplace=True)\n",
        "X.wind_speed_x.fillna(X.wind_speed_y,inplace=True)"
      ]
    },
    {
      "cell_type": "code",
      "execution_count": null,
      "metadata": {
        "colab": {
          "base_uri": "https://localhost:8080/"
        },
        "id": "0lG3H0jf83vE",
        "outputId": "b13c2164-88c7-4b9f-db83-b9fe0261b15e"
      },
      "outputs": [
        {
          "data": {
            "text/plain": [
              "Index(['ambient_temp_x', 'wind_speed_x', 'time_bin', 'hour', 'min', 'sec',\n",
              "       'wind_speed_y', 'ambient_temp_y'],\n",
              "      dtype='object')"
            ]
          },
          "execution_count": 29,
          "metadata": {},
          "output_type": "execute_result"
        }
      ],
      "source": [
        "X.columns"
      ]
    },
    {
      "cell_type": "code",
      "execution_count": null,
      "metadata": {
        "id": "DSSjebYD83vF"
      },
      "outputs": [],
      "source": [
        "from sklearn.model_selection import TimeSeriesSplit"
      ]
    },
    {
      "cell_type": "code",
      "execution_count": null,
      "metadata": {
        "id": "9KRPQD4V83vF"
      },
      "outputs": [],
      "source": [
        "\n",
        "from numpy import array\n",
        "from numpy import hstack\n",
        "from keras.preprocessing.sequence import TimeseriesGenerator"
      ]
    },
    {
      "cell_type": "code",
      "execution_count": null,
      "metadata": {
        "id": "ne4pLN0s83vF"
      },
      "outputs": [],
      "source": [
        "\n",
        "generator = TimeseriesGenerator(X[[ 'ambient_temp_x', 'wind_speed_x', 'time_bin',\"hour\",\"min\",\"sec\"]], Y, length=30, batch_size=1)"
      ]
    },
    {
      "cell_type": "code",
      "execution_count": null,
      "metadata": {
        "colab": {
          "base_uri": "https://localhost:8080/"
        },
        "id": "bmv7lP0i83vG",
        "outputId": "53efe2c0-ccdb-4e6c-df0c-72f6d862fc08"
      },
      "outputs": [
        {
          "data": {
            "text/plain": [
              "86766"
            ]
          },
          "execution_count": 33,
          "metadata": {},
          "output_type": "execute_result"
        }
      ],
      "source": [
        "len(generator)"
      ]
    },
    {
      "cell_type": "code",
      "execution_count": null,
      "metadata": {
        "id": "50rSnBBa83vH"
      },
      "outputs": [],
      "source": [
        "lisX=[]\n",
        "lisY=[]\n",
        "for i in range(len(generator)):\n",
        "    x, y = generator[i]\n",
        "    lisX.append(x.reshape(-1))\n",
        "    lisY.append(y.reshape(-1))"
      ]
    },
    {
      "cell_type": "code",
      "execution_count": null,
      "metadata": {
        "id": "4p-vrp8J83vH"
      },
      "outputs": [],
      "source": [
        "X=X[[ 'ambient_temp_x', 'wind_speed_x', 'time_bin',\"hour\",\"min\",\"sec\"]]\n",
        "col=[]\n",
        "for i in range(1,31):\n",
        "    col.extend(X.columns+\"_\"+str(i))\n",
        "    "
      ]
    },
    {
      "cell_type": "code",
      "execution_count": null,
      "metadata": {
        "id": "mtkiSROv83vH"
      },
      "outputs": [],
      "source": [
        "Xdata=pd.DataFrame(lisX,columns=col)\n",
        "Ydata=pd.DataFrame(lisY)"
      ]
    },
    {
      "cell_type": "code",
      "execution_count": null,
      "metadata": {
        "id": "i85WZXpO83vI"
      },
      "outputs": [],
      "source": [
        "list(X.columns).extend(X.columns)"
      ]
    },
    {
      "cell_type": "code",
      "execution_count": null,
      "metadata": {
        "colab": {
          "base_uri": "https://localhost:8080/"
        },
        "id": "gsMuu0oY83vI",
        "outputId": "a4894033-ec02-4d3b-9df7-364e04ae5474"
      },
      "outputs": [
        {
          "data": {
            "text/plain": [
              "Index(['ambient_temp_x', 'wind_speed_x', 'time_bin', 'hour', 'min', 'sec'], dtype='object')"
            ]
          },
          "execution_count": 38,
          "metadata": {},
          "output_type": "execute_result"
        }
      ],
      "source": [
        "X.columns"
      ]
    },
    {
      "cell_type": "code",
      "execution_count": null,
      "metadata": {
        "colab": {
          "base_uri": "https://localhost:8080/",
          "height": 382
        },
        "id": "Y_1TKZlj83vI",
        "outputId": "52c8dac5-8add-4663-e001-bbcf4af8ca3e"
      },
      "outputs": [
        {
          "data": {
            "text/html": [
              "<div>\n",
              "<style scoped>\n",
              "    .dataframe tbody tr th:only-of-type {\n",
              "        vertical-align: middle;\n",
              "    }\n",
              "\n",
              "    .dataframe tbody tr th {\n",
              "        vertical-align: top;\n",
              "    }\n",
              "\n",
              "    .dataframe thead th {\n",
              "        text-align: right;\n",
              "    }\n",
              "</style>\n",
              "<table border=\"1\" class=\"dataframe\">\n",
              "  <thead>\n",
              "    <tr style=\"text-align: right;\">\n",
              "      <th></th>\n",
              "      <th>ambient_temp_x_1</th>\n",
              "      <th>wind_speed_x_1</th>\n",
              "      <th>time_bin_1</th>\n",
              "      <th>hour_1</th>\n",
              "      <th>min_1</th>\n",
              "      <th>sec_1</th>\n",
              "      <th>ambient_temp_x_2</th>\n",
              "      <th>wind_speed_x_2</th>\n",
              "      <th>time_bin_2</th>\n",
              "      <th>hour_2</th>\n",
              "      <th>...</th>\n",
              "      <th>time_bin_29</th>\n",
              "      <th>hour_29</th>\n",
              "      <th>min_29</th>\n",
              "      <th>sec_29</th>\n",
              "      <th>ambient_temp_x_30</th>\n",
              "      <th>wind_speed_x_30</th>\n",
              "      <th>time_bin_30</th>\n",
              "      <th>hour_30</th>\n",
              "      <th>min_30</th>\n",
              "      <th>sec_30</th>\n",
              "    </tr>\n",
              "  </thead>\n",
              "  <tbody>\n",
              "    <tr>\n",
              "      <th>86756</th>\n",
              "      <td>35.632679</td>\n",
              "      <td>0.28164</td>\n",
              "      <td>2891.0</td>\n",
              "      <td>19.0</td>\n",
              "      <td>22.0</td>\n",
              "      <td>1.0</td>\n",
              "      <td>35.662201</td>\n",
              "      <td>1.88136</td>\n",
              "      <td>2891.0</td>\n",
              "      <td>19.0</td>\n",
              "      <td>...</td>\n",
              "      <td>2892.0</td>\n",
              "      <td>19.0</td>\n",
              "      <td>50.0</td>\n",
              "      <td>1.0</td>\n",
              "      <td>36.072392</td>\n",
              "      <td>2.68122</td>\n",
              "      <td>2892.0</td>\n",
              "      <td>19.0</td>\n",
              "      <td>51.0</td>\n",
              "      <td>1.0</td>\n",
              "    </tr>\n",
              "    <tr>\n",
              "      <th>86757</th>\n",
              "      <td>35.662201</td>\n",
              "      <td>1.88136</td>\n",
              "      <td>2891.0</td>\n",
              "      <td>19.0</td>\n",
              "      <td>23.0</td>\n",
              "      <td>1.0</td>\n",
              "      <td>35.723141</td>\n",
              "      <td>0.28164</td>\n",
              "      <td>2891.0</td>\n",
              "      <td>19.0</td>\n",
              "      <td>...</td>\n",
              "      <td>2892.0</td>\n",
              "      <td>19.0</td>\n",
              "      <td>51.0</td>\n",
              "      <td>1.0</td>\n",
              "      <td>36.132568</td>\n",
              "      <td>0.28164</td>\n",
              "      <td>2892.0</td>\n",
              "      <td>19.0</td>\n",
              "      <td>52.0</td>\n",
              "      <td>1.0</td>\n",
              "    </tr>\n",
              "    <tr>\n",
              "      <th>86758</th>\n",
              "      <td>35.723141</td>\n",
              "      <td>0.28164</td>\n",
              "      <td>2891.0</td>\n",
              "      <td>19.0</td>\n",
              "      <td>24.0</td>\n",
              "      <td>1.0</td>\n",
              "      <td>35.753250</td>\n",
              "      <td>0.28164</td>\n",
              "      <td>2891.0</td>\n",
              "      <td>19.0</td>\n",
              "      <td>...</td>\n",
              "      <td>2892.0</td>\n",
              "      <td>19.0</td>\n",
              "      <td>52.0</td>\n",
              "      <td>1.0</td>\n",
              "      <td>36.133720</td>\n",
              "      <td>3.48108</td>\n",
              "      <td>2892.0</td>\n",
              "      <td>19.0</td>\n",
              "      <td>53.0</td>\n",
              "      <td>1.0</td>\n",
              "    </tr>\n",
              "    <tr>\n",
              "      <th>86759</th>\n",
              "      <td>35.753250</td>\n",
              "      <td>0.28164</td>\n",
              "      <td>2891.0</td>\n",
              "      <td>19.0</td>\n",
              "      <td>25.0</td>\n",
              "      <td>1.0</td>\n",
              "      <td>35.842972</td>\n",
              "      <td>1.88136</td>\n",
              "      <td>2892.0</td>\n",
              "      <td>19.0</td>\n",
              "      <td>...</td>\n",
              "      <td>2892.0</td>\n",
              "      <td>19.0</td>\n",
              "      <td>53.0</td>\n",
              "      <td>1.0</td>\n",
              "      <td>36.058460</td>\n",
              "      <td>0.28164</td>\n",
              "      <td>2892.0</td>\n",
              "      <td>19.0</td>\n",
              "      <td>54.0</td>\n",
              "      <td>1.0</td>\n",
              "    </tr>\n",
              "    <tr>\n",
              "      <th>86760</th>\n",
              "      <td>35.842972</td>\n",
              "      <td>1.88136</td>\n",
              "      <td>2892.0</td>\n",
              "      <td>19.0</td>\n",
              "      <td>26.0</td>\n",
              "      <td>1.0</td>\n",
              "      <td>35.812382</td>\n",
              "      <td>1.88136</td>\n",
              "      <td>2892.0</td>\n",
              "      <td>19.0</td>\n",
              "      <td>...</td>\n",
              "      <td>2892.0</td>\n",
              "      <td>19.0</td>\n",
              "      <td>54.0</td>\n",
              "      <td>1.0</td>\n",
              "      <td>36.089489</td>\n",
              "      <td>0.28164</td>\n",
              "      <td>2892.0</td>\n",
              "      <td>19.0</td>\n",
              "      <td>55.0</td>\n",
              "      <td>1.0</td>\n",
              "    </tr>\n",
              "    <tr>\n",
              "      <th>86761</th>\n",
              "      <td>35.812382</td>\n",
              "      <td>1.88136</td>\n",
              "      <td>2892.0</td>\n",
              "      <td>19.0</td>\n",
              "      <td>27.0</td>\n",
              "      <td>1.0</td>\n",
              "      <td>35.752960</td>\n",
              "      <td>2.68122</td>\n",
              "      <td>2892.0</td>\n",
              "      <td>19.0</td>\n",
              "      <td>...</td>\n",
              "      <td>2892.0</td>\n",
              "      <td>19.0</td>\n",
              "      <td>55.0</td>\n",
              "      <td>1.0</td>\n",
              "      <td>36.193249</td>\n",
              "      <td>0.28164</td>\n",
              "      <td>2893.0</td>\n",
              "      <td>19.0</td>\n",
              "      <td>56.0</td>\n",
              "      <td>1.0</td>\n",
              "    </tr>\n",
              "    <tr>\n",
              "      <th>86762</th>\n",
              "      <td>35.752960</td>\n",
              "      <td>2.68122</td>\n",
              "      <td>2892.0</td>\n",
              "      <td>19.0</td>\n",
              "      <td>28.0</td>\n",
              "      <td>1.0</td>\n",
              "      <td>35.677151</td>\n",
              "      <td>2.68122</td>\n",
              "      <td>2892.0</td>\n",
              "      <td>19.0</td>\n",
              "      <td>...</td>\n",
              "      <td>2893.0</td>\n",
              "      <td>19.0</td>\n",
              "      <td>56.0</td>\n",
              "      <td>1.0</td>\n",
              "      <td>36.253342</td>\n",
              "      <td>0.28164</td>\n",
              "      <td>2893.0</td>\n",
              "      <td>19.0</td>\n",
              "      <td>57.0</td>\n",
              "      <td>1.0</td>\n",
              "    </tr>\n",
              "    <tr>\n",
              "      <th>86763</th>\n",
              "      <td>35.677151</td>\n",
              "      <td>2.68122</td>\n",
              "      <td>2892.0</td>\n",
              "      <td>19.0</td>\n",
              "      <td>29.0</td>\n",
              "      <td>1.0</td>\n",
              "      <td>35.631538</td>\n",
              "      <td>1.08150</td>\n",
              "      <td>2892.0</td>\n",
              "      <td>19.0</td>\n",
              "      <td>...</td>\n",
              "      <td>2893.0</td>\n",
              "      <td>19.0</td>\n",
              "      <td>57.0</td>\n",
              "      <td>1.0</td>\n",
              "      <td>36.238201</td>\n",
              "      <td>1.88136</td>\n",
              "      <td>2893.0</td>\n",
              "      <td>19.0</td>\n",
              "      <td>58.0</td>\n",
              "      <td>1.0</td>\n",
              "    </tr>\n",
              "    <tr>\n",
              "      <th>86764</th>\n",
              "      <td>35.631538</td>\n",
              "      <td>1.08150</td>\n",
              "      <td>2892.0</td>\n",
              "      <td>19.0</td>\n",
              "      <td>30.0</td>\n",
              "      <td>1.0</td>\n",
              "      <td>35.586041</td>\n",
              "      <td>1.88136</td>\n",
              "      <td>2892.0</td>\n",
              "      <td>19.0</td>\n",
              "      <td>...</td>\n",
              "      <td>2893.0</td>\n",
              "      <td>19.0</td>\n",
              "      <td>58.0</td>\n",
              "      <td>1.0</td>\n",
              "      <td>36.088779</td>\n",
              "      <td>0.28164</td>\n",
              "      <td>2893.0</td>\n",
              "      <td>19.0</td>\n",
              "      <td>59.0</td>\n",
              "      <td>1.0</td>\n",
              "    </tr>\n",
              "    <tr>\n",
              "      <th>86765</th>\n",
              "      <td>35.586041</td>\n",
              "      <td>1.88136</td>\n",
              "      <td>2892.0</td>\n",
              "      <td>19.0</td>\n",
              "      <td>31.0</td>\n",
              "      <td>1.0</td>\n",
              "      <td>35.511669</td>\n",
              "      <td>1.08150</td>\n",
              "      <td>2892.0</td>\n",
              "      <td>19.0</td>\n",
              "      <td>...</td>\n",
              "      <td>2893.0</td>\n",
              "      <td>19.0</td>\n",
              "      <td>59.0</td>\n",
              "      <td>1.0</td>\n",
              "      <td>35.983109</td>\n",
              "      <td>0.28164</td>\n",
              "      <td>2893.0</td>\n",
              "      <td>20.0</td>\n",
              "      <td>0.0</td>\n",
              "      <td>1.0</td>\n",
              "    </tr>\n",
              "  </tbody>\n",
              "</table>\n",
              "<p>10 rows × 180 columns</p>\n",
              "</div>"
            ],
            "text/plain": [
              "       ambient_temp_x_1  wind_speed_x_1  time_bin_1  hour_1  min_1  sec_1  \\\n",
              "86756         35.632679         0.28164      2891.0    19.0   22.0    1.0   \n",
              "86757         35.662201         1.88136      2891.0    19.0   23.0    1.0   \n",
              "86758         35.723141         0.28164      2891.0    19.0   24.0    1.0   \n",
              "86759         35.753250         0.28164      2891.0    19.0   25.0    1.0   \n",
              "86760         35.842972         1.88136      2892.0    19.0   26.0    1.0   \n",
              "86761         35.812382         1.88136      2892.0    19.0   27.0    1.0   \n",
              "86762         35.752960         2.68122      2892.0    19.0   28.0    1.0   \n",
              "86763         35.677151         2.68122      2892.0    19.0   29.0    1.0   \n",
              "86764         35.631538         1.08150      2892.0    19.0   30.0    1.0   \n",
              "86765         35.586041         1.88136      2892.0    19.0   31.0    1.0   \n",
              "\n",
              "       ambient_temp_x_2  wind_speed_x_2  time_bin_2  hour_2  ...  time_bin_29  \\\n",
              "86756         35.662201         1.88136      2891.0    19.0  ...       2892.0   \n",
              "86757         35.723141         0.28164      2891.0    19.0  ...       2892.0   \n",
              "86758         35.753250         0.28164      2891.0    19.0  ...       2892.0   \n",
              "86759         35.842972         1.88136      2892.0    19.0  ...       2892.0   \n",
              "86760         35.812382         1.88136      2892.0    19.0  ...       2892.0   \n",
              "86761         35.752960         2.68122      2892.0    19.0  ...       2892.0   \n",
              "86762         35.677151         2.68122      2892.0    19.0  ...       2893.0   \n",
              "86763         35.631538         1.08150      2892.0    19.0  ...       2893.0   \n",
              "86764         35.586041         1.88136      2892.0    19.0  ...       2893.0   \n",
              "86765         35.511669         1.08150      2892.0    19.0  ...       2893.0   \n",
              "\n",
              "       hour_29  min_29  sec_29  ambient_temp_x_30  wind_speed_x_30  \\\n",
              "86756     19.0    50.0     1.0          36.072392          2.68122   \n",
              "86757     19.0    51.0     1.0          36.132568          0.28164   \n",
              "86758     19.0    52.0     1.0          36.133720          3.48108   \n",
              "86759     19.0    53.0     1.0          36.058460          0.28164   \n",
              "86760     19.0    54.0     1.0          36.089489          0.28164   \n",
              "86761     19.0    55.0     1.0          36.193249          0.28164   \n",
              "86762     19.0    56.0     1.0          36.253342          0.28164   \n",
              "86763     19.0    57.0     1.0          36.238201          1.88136   \n",
              "86764     19.0    58.0     1.0          36.088779          0.28164   \n",
              "86765     19.0    59.0     1.0          35.983109          0.28164   \n",
              "\n",
              "       time_bin_30  hour_30  min_30  sec_30  \n",
              "86756       2892.0     19.0    51.0     1.0  \n",
              "86757       2892.0     19.0    52.0     1.0  \n",
              "86758       2892.0     19.0    53.0     1.0  \n",
              "86759       2892.0     19.0    54.0     1.0  \n",
              "86760       2892.0     19.0    55.0     1.0  \n",
              "86761       2893.0     19.0    56.0     1.0  \n",
              "86762       2893.0     19.0    57.0     1.0  \n",
              "86763       2893.0     19.0    58.0     1.0  \n",
              "86764       2893.0     19.0    59.0     1.0  \n",
              "86765       2893.0     20.0     0.0     1.0  \n",
              "\n",
              "[10 rows x 180 columns]"
            ]
          },
          "execution_count": 36,
          "metadata": {},
          "output_type": "execute_result"
        }
      ],
      "source": [
        "Xdata.tail(10)"
      ]
    },
    {
      "cell_type": "code",
      "execution_count": null,
      "metadata": {
        "colab": {
          "base_uri": "https://localhost:8080/"
        },
        "id": "kvapx4gJ83vJ",
        "outputId": "c79217d1-e9e4-46ce-feaa-4a57af037294"
      },
      "outputs": [
        {
          "data": {
            "text/plain": [
              "((86766, 1), (86766, 180))"
            ]
          },
          "execution_count": 39,
          "metadata": {},
          "output_type": "execute_result"
        }
      ],
      "source": [
        "Ydata.shape,Xdata.shape\n"
      ]
    },
    {
      "cell_type": "code",
      "execution_count": null,
      "metadata": {
        "colab": {
          "base_uri": "https://localhost:8080/"
        },
        "id": "9IkOONA983vJ",
        "outputId": "ccef0627-30ab-4746-c330-9c55298a7509"
      },
      "outputs": [
        {
          "data": {
            "text/plain": [
              "Index(['ambient_temp_x_1', 'wind_speed_x_1', 'time_bin_1', 'hour_1', 'min_1',\n",
              "       'sec_1', 'ambient_temp_x_2', 'wind_speed_x_2', 'time_bin_2', 'hour_2',\n",
              "       ...\n",
              "       'time_bin_29', 'hour_29', 'min_29', 'sec_29', 'ambient_temp_x_30',\n",
              "       'wind_speed_x_30', 'time_bin_30', 'hour_30', 'min_30', 'sec_30'],\n",
              "      dtype='object', length=180)"
            ]
          },
          "execution_count": 40,
          "metadata": {},
          "output_type": "execute_result"
        }
      ],
      "source": [
        "Xdata.columns"
      ]
    },
    {
      "cell_type": "code",
      "execution_count": null,
      "metadata": {
        "id": "S7AHjqSB83vX"
      },
      "outputs": [],
      "source": [
        "index_na=np.argwhere(np.array(np.isnan(Ydata)))[:,0]\n",
        "Ydata_model=Ydata.drop(Ydata.index[index_na])\n",
        "Xdata_model=Xdata.drop(Xdata.index[index_na])"
      ]
    },
    {
      "cell_type": "code",
      "execution_count": null,
      "metadata": {
        "id": "WpWuyklFAYE3"
      },
      "outputs": [],
      "source": [
        "Xdata_model_train, Xdata_model_test, Ydata_model_train, Ydata_model_test = train_test_split(Xdata_model, Ydata_model, test_size=0.1, random_state=42)"
      ]
    },
    {
      "cell_type": "code",
      "execution_count": null,
      "metadata": {
        "id": "YqTzDVlEAYE4"
      },
      "outputs": [],
      "source": [
        "Xscaler = MinMaxScaler()\n",
        "Xdata_model_train=Xscaler.fit_transform(Xdata_model_train)\n",
        "Xdata_model_test=Xscaler.transform(Xdata_model_test)\n",
        "Yscaler = MinMaxScaler()\n",
        "Ydata_model_train=Yscaler.fit_transform(Ydata_model_train)\n",
        "Ydata_model_test=Yscaler.transform(Ydata_model_test)"
      ]
    },
    {
      "cell_type": "code",
      "execution_count": null,
      "metadata": {
        "id": "vDenxOb_AYE4"
      },
      "outputs": [],
      "source": [
        ""
      ]
    },
    {
      "cell_type": "code",
      "execution_count": null,
      "metadata": {
        "id": "jt_XocAtAYE4"
      },
      "outputs": [],
      "source": [
        "Xdata_model_train=np.array(Xdata_model_train).reshape(Xdata_model_train.shape[0],30,6)\n",
        "Xdata_model_test=np.array(Xdata_model_test).reshape(Xdata_model_test.shape[0],30,6)"
      ]
    },
    {
      "cell_type": "code",
      "execution_count": null,
      "metadata": {
        "colab": {
          "base_uri": "https://localhost:8080/",
          "height": 377
        },
        "id": "7VyhtNaH83vX",
        "outputId": "edb380b8-293c-46e6-d779-46b86e0509d0"
      },
      "outputs": [
        {
          "name": "stdout",
          "output_type": "stream",
          "text": [
            "Epoch 1/20\n",
            "2247/2247 [==============================] - 76s 34ms/step - loss: 0.0569 - R_squared: 0.7433 - val_loss: 0.0523 - val_R_squared: 0.8160\n",
            "Epoch 2/20\n",
            "2247/2247 [==============================] - 76s 34ms/step - loss: 0.0409 - R_squared: 0.8442 - val_loss: 0.0414 - val_R_squared: 0.8384\n",
            "Epoch 3/20\n",
            "2247/2247 [==============================] - 76s 34ms/step - loss: 0.0378 - R_squared: 0.8511 - val_loss: 0.0364 - val_R_squared: 0.8369\n",
            "Epoch 4/20\n",
            "2247/2247 [==============================] - 76s 34ms/step - loss: 0.0363 - R_squared: 0.8514 - val_loss: 0.0357 - val_R_squared: 0.8505\n",
            "Epoch 5/20\n",
            "2247/2247 [==============================] - 75s 33ms/step - loss: 0.0359 - R_squared: 0.8507 - val_loss: 0.0384 - val_R_squared: 0.8424\n",
            "Epoch 6/20\n",
            "2247/2247 [==============================] - 75s 33ms/step - loss: 0.0349 - R_squared: 0.8538 - val_loss: 0.0363 - val_R_squared: 0.8409\n",
            "Epoch 7/20\n",
            "2247/2247 [==============================] - 75s 33ms/step - loss: 0.0344 - R_squared: 0.8554 - val_loss: 0.0364 - val_R_squared: 0.8395\n",
            "Epoch 8/20\n",
            "2247/2247 [==============================] - 74s 33ms/step - loss: 0.0341 - R_squared: 0.8551 - val_loss: 0.0351 - val_R_squared: 0.8387\n",
            "Epoch 9/20\n",
            "2247/2247 [==============================] - 74s 33ms/step - loss: 0.0335 - R_squared: 0.8564 - val_loss: 0.0340 - val_R_squared: 0.8454\n",
            "Epoch 10/20\n",
            "2247/2247 [==============================] - 74s 33ms/step - loss: 0.0333 - R_squared: 0.8590 - val_loss: 0.0336 - val_R_squared: 0.8533\n",
            "Epoch 11/20\n",
            "2247/2247 [==============================] - 74s 33ms/step - loss: 0.0330 - R_squared: 0.8602 - val_loss: 0.0358 - val_R_squared: 0.8283\n",
            "Epoch 12/20\n",
            "2247/2247 [==============================] - 74s 33ms/step - loss: 0.0327 - R_squared: 0.8567 - val_loss: 0.0377 - val_R_squared: 0.8475\n",
            "Epoch 13/20\n",
            "2247/2247 [==============================] - 74s 33ms/step - loss: 0.0325 - R_squared: 0.8604 - val_loss: 0.0350 - val_R_squared: 0.8409\n",
            "Epoch 14/20\n",
            "2247/2247 [==============================] - 74s 33ms/step - loss: 0.0320 - R_squared: 0.8604 - val_loss: 0.0343 - val_R_squared: 0.8499\n",
            "Epoch 15/20\n",
            "2247/2247 [==============================] - 74s 33ms/step - loss: 0.0318 - R_squared: 0.8618 - val_loss: 0.0328 - val_R_squared: 0.8514\n",
            "Epoch 16/20\n",
            "2247/2247 [==============================] - 74s 33ms/step - loss: 0.0317 - R_squared: 0.8619 - val_loss: 0.0349 - val_R_squared: 0.8470\n",
            "Epoch 17/20\n",
            "2247/2247 [==============================] - 74s 33ms/step - loss: 0.0315 - R_squared: 0.8635 - val_loss: 0.0333 - val_R_squared: 0.8532\n",
            "Epoch 18/20\n",
            "2247/2247 [==============================] - 74s 33ms/step - loss: 0.0312 - R_squared: 0.8630 - val_loss: 0.0355 - val_R_squared: 0.8628\n",
            "Epoch 19/20\n",
            "2247/2247 [==============================] - 74s 33ms/step - loss: 0.0311 - R_squared: 0.8646 - val_loss: 0.0316 - val_R_squared: 0.8628\n",
            "Epoch 20/20\n",
            "2247/2247 [==============================] - 74s 33ms/step - loss: 0.0308 - R_squared: 0.8652 - val_loss: 0.0328 - val_R_squared: 0.8526\n"
          ]
        }
      ],
      "source": [
        "def R_squared(y, y_pred):\n",
        "  residual = tf.reduce_sum(tf.square(tf.subtract(y, y_pred)))\n",
        "  total = tf.reduce_sum(tf.square(tf.subtract(y, tf.reduce_mean(y))))\n",
        "  r2 = tf.subtract(1.0, tf.truediv(residual, total))\n",
        "  return r2\n",
        "init=tf.keras.initializers.HeNormal(seed=None)\n",
        "\n",
        "def custom_lossfunction(real,pred):\n",
        "    return tf.sqrt(tf.keras.losses.mean_squared_error(real, pred))\n",
        "model = Sequential()\n",
        "model.add(LSTM(64, activation=\"relu\",input_shape=(30, 6),kernel_initializer=init))\n",
        "model.add(Dense(1,kernel_initializer=init))\n",
        "model.compile(optimizer='adam',loss=[custom_lossfunction],metrics=[R_squared])\n",
        "history=model.fit(Xdata_model_train,Ydata_model_train,epochs=20,validation_data=(Xdata_model_test,Ydata_model_test))"
      ]
    },
    {
      "cell_type": "code",
      "execution_count": null,
      "metadata": {
        "id": "1nqXqzU983vZ",
        "outputId": "7eb8212c-705b-4a50-d00c-c45323dd4e28"
      },
      "outputs": [
        {
          "data": {
            "text/plain": [
              "<tensorflow.python.keras.layers.recurrent_v2.LSTM at 0x7fcb800e3f10>"
            ]
          },
          "execution_count": 101,
          "metadata": {},
          "output_type": "execute_result"
        }
      ],
      "source": [
        "model.layers[0]"
      ]
    },
    {
      "cell_type": "code",
      "execution_count": null,
      "metadata": {
        "id": "qtE-Fn6p83vZ"
      },
      "outputs": [],
      "source": [
        "model.save(\"weather.h5\")"
      ]
    },
    {
      "cell_type": "code",
      "execution_count": null,
      "metadata": {
        "id": "M10G34YSAYFR"
      },
      "outputs": [],
      "source": [
        "predicted_train=model.predict(Xdata_model_train)"
      ]
    },
    {
      "cell_type": "code",
      "execution_count": null,
      "metadata": {
        "id": "w5SicrZpAYFS",
        "outputId": "c348f196-b475-46c9-f70f-066d8a4d4c2d"
      },
      "outputs": [
        {
          "data": {
            "text/plain": [
              "(array([[318.60364  ],\n",
              "        [  1.7019879],\n",
              "        [838.96344  ],\n",
              "        ...,\n",
              "        [200.04504  ],\n",
              "        [  1.4152576],\n",
              "        [ 13.303018 ]], dtype=float32),\n",
              " array([[346.4760132 ],\n",
              "        [  0.        ],\n",
              "        [897.7489014 ],\n",
              "        ...,\n",
              "        [282.2380981 ],\n",
              "        [  0.        ],\n",
              "        [ 19.04986954]]))"
            ]
          },
          "execution_count": 104,
          "metadata": {},
          "output_type": "execute_result"
        }
      ],
      "source": [
        "scaler.inverse_transform(predicted_train),scaler.inverse_transform(Ydata_model_train)"
      ]
    },
    {
      "cell_type": "code",
      "execution_count": null,
      "metadata": {
        "id": "tSXZ_RNSAYFY",
        "outputId": "b1f25566-9f1d-44ca-f350-d004c3d5936e"
      },
      "outputs": [
        {
          "data": {
            "text/plain": [
              "(array([[0.23242727],\n",
              "        [0.00124163],\n",
              "        [0.61203945],\n",
              "        ...,\n",
              "        [0.14593658],\n",
              "        [0.00103246],\n",
              "        [0.0097048 ]], dtype=float32),\n",
              " array([[0.2527607 ],\n",
              "        [0.        ],\n",
              "        [0.65492452],\n",
              "        ...,\n",
              "        [0.20589794],\n",
              "        [0.        ],\n",
              "        [0.01389723]]))"
            ]
          },
          "execution_count": 105,
          "metadata": {},
          "output_type": "execute_result"
        }
      ],
      "source": [
        "predicted_train,Ydata_model_train"
      ]
    },
    {
      "cell_type": "code",
      "execution_count": null,
      "metadata": {
        "id": "u-Q-Ci7pAYFY"
      },
      "outputs": [],
      "source": [
        "model.save_weights(\"weather_weights.h5\")"
      ]
    },
    {
      "cell_type": "code",
      "execution_count": null,
      "metadata": {
        "id": "6Wjrz9uxAYFZ",
        "outputId": "4d6ae8d1-2577-484c-f3f4-0aa93fb58769"
      },
      "outputs": [
        {
          "data": {
            "image/png": "[encoded data removed]",
            "text/plain": [
              "<Figure size 576x396 with 1 Axes>"
            ]
          },
          "metadata": {},
          "output_type": "display_data"
        }
      ],
      "source": [
        "import matplotlib.pyplot as plt\n",
        "plt.title('Learning Curves')\n",
        "plt.xlabel('Epoch')\n",
        "plt.ylabel('irradiance')\n",
        "plt.plot(history.history['loss'], label='train')\n",
        "plt.plot(history.history['val_loss'], label='val')\n",
        "plt.legend()\n",
        "plt.show()\n"
      ]
    },
    {
      "cell_type": "code",
      "execution_count": null,
      "metadata": {
        "id": "PD9xnB7eAYFt",
        "outputId": "725f39f9-1b8e-4d17-e8eb-89922b14023b"
      },
      "outputs": [
        {
          "name": "stdout",
          "output_type": "stream",
          "text": [
            "Epoch 1/20\n",
            "2247/2247 [==============================] - 74s 33ms/step - loss: 0.0305 - R_squared: 0.8694 - val_loss: 0.0323 - val_R_squared: 0.8440\n",
            "Epoch 2/20\n",
            "2247/2247 [==============================] - 74s 33ms/step - loss: 0.0303 - R_squared: 0.8681 - val_loss: 0.0306 - val_R_squared: 0.8678\n",
            "Epoch 3/20\n",
            "2247/2247 [==============================] - 74s 33ms/step - loss: 0.0301 - R_squared: 0.8690 - val_loss: 0.0313 - val_R_squared: 0.8715\n",
            "Epoch 4/20\n",
            "2247/2247 [==============================] - 74s 33ms/step - loss: 0.0299 - R_squared: 0.8701 - val_loss: 0.0320 - val_R_squared: 0.8525\n",
            "Epoch 5/20\n",
            "2247/2247 [==============================] - 74s 33ms/step - loss: 0.0300 - R_squared: 0.8710 - val_loss: 0.0367 - val_R_squared: 0.8415\n",
            "Epoch 6/20\n",
            "2247/2247 [==============================] - 74s 33ms/step - loss: 0.0298 - R_squared: 0.8719 - val_loss: 0.0314 - val_R_squared: 0.8559\n",
            "Epoch 7/20\n",
            "2247/2247 [==============================] - 74s 33ms/step - loss: 0.0295 - R_squared: 0.8704 - val_loss: 0.0309 - val_R_squared: 0.8588\n",
            "Epoch 8/20\n",
            "2247/2247 [==============================] - 74s 33ms/step - loss: 0.0292 - R_squared: 0.8727 - val_loss: 0.0306 - val_R_squared: 0.8689\n",
            "Epoch 9/20\n",
            "2247/2247 [==============================] - 74s 33ms/step - loss: 0.0292 - R_squared: 0.8726 - val_loss: 0.0300 - val_R_squared: 0.8650\n",
            "Epoch 10/20\n",
            "2247/2247 [==============================] - 74s 33ms/step - loss: 0.0292 - R_squared: 0.8737 - val_loss: 0.0321 - val_R_squared: 0.8654\n",
            "Epoch 11/20\n",
            "2247/2247 [==============================] - 74s 33ms/step - loss: 0.0290 - R_squared: 0.8735 - val_loss: 0.0302 - val_R_squared: 0.8646\n",
            "Epoch 12/20\n",
            "2247/2247 [==============================] - 74s 33ms/step - loss: 0.0289 - R_squared: 0.8751 - val_loss: 0.0345 - val_R_squared: 0.8362\n",
            "Epoch 13/20\n",
            "2247/2247 [==============================] - 74s 33ms/step - loss: 0.0286 - R_squared: 0.8753 - val_loss: 0.0305 - val_R_squared: 0.8714\n",
            "Epoch 14/20\n",
            "2247/2247 [==============================] - 74s 33ms/step - loss: 0.0288 - R_squared: 0.8742 - val_loss: 0.0310 - val_R_squared: 0.8678\n",
            "Epoch 15/20\n",
            "2247/2247 [==============================] - 74s 33ms/step - loss: nan - R_squared: nan - val_loss: nan - val_R_squared: nan\n",
            "Epoch 16/20\n",
            "2247/2247 [==============================] - 74s 33ms/step - loss: nan - R_squared: nan - val_loss: nan - val_R_squared: nan\n",
            "Epoch 17/20\n",
            "2247/2247 [==============================] - 74s 33ms/step - loss: nan - R_squared: nan - val_loss: nan - val_R_squared: nan\n",
            "Epoch 18/20\n",
            "2247/2247 [==============================] - 73s 33ms/step - loss: nan - R_squared: nan - val_loss: nan - val_R_squared: nan\n",
            "Epoch 19/20\n",
            "2247/2247 [==============================] - 69s 31ms/step - loss: nan - R_squared: nan - val_loss: nan - val_R_squared: nan\n",
            "Epoch 20/20\n",
            "2247/2247 [==============================] - 69s 31ms/step - loss: nan - R_squared: nan - val_loss: nan - val_R_squared: nan\n"
          ]
        }
      ],
      "source": [
        "history=model.fit(Xdata_model_train,Ydata_model_train,epochs=20,validation_data=(Xdata_model_test,Ydata_model_test))"
      ]
    },
    {
      "cell_type": "code",
      "execution_count": null,
      "metadata": {
        "id": "Fxpn2_8MAYFt",
        "outputId": "981a8bf6-7d1a-4caa-c0ea-776cff053358"
      },
      "outputs": [
        {
          "data": {
            "image/png": "[encoded data removed]",
            "text/plain": [
              "<Figure size 576x396 with 1 Axes>"
            ]
          },
          "metadata": {},
          "output_type": "display_data"
        }
      ],
      "source": [
        "import matplotlib.pyplot as plt\n",
        "plt.title('Learning Curves')\n",
        "plt.xlabel('Epoch')\n",
        "plt.ylabel('irradiance')\n",
        "plt.plot(history.history['loss'], label='train')\n",
        "plt.plot(history.history['val_loss'], label='val')\n",
        "plt.legend()\n",
        "plt.show()\n"
      ]
    },
    {
      "cell_type": "code",
      "execution_count": null,
      "metadata": {
        "id": "4GfXirFAAYFt",
        "outputId": "336573f7-d7ff-4256-ffae-17d712e4eae4"
      },
      "outputs": [
        {
          "data": {
            "text/plain": [
              "(array([[318.60364  ],\n",
              "        [  1.7019879],\n",
              "        [838.96344  ],\n",
              "        ...,\n",
              "        [200.04504  ],\n",
              "        [  1.4152576],\n",
              "        [ 13.303018 ]], dtype=float32),\n",
              " array([[346.4760132 ],\n",
              "        [  0.        ],\n",
              "        [897.7489014 ],\n",
              "        ...,\n",
              "        [282.2380981 ],\n",
              "        [  0.        ],\n",
              "        [ 19.04986954]]))"
            ]
          },
          "execution_count": 110,
          "metadata": {},
          "output_type": "execute_result"
        }
      ],
      "source": [
        "scaler.inverse_transform(predicted_train),scaler.inverse_transform(Ydata_model_train)"
      ]
    },
    {
      "cell_type": "code",
      "execution_count": null,
      "metadata": {
        "id": "RMiaRilKAYFw",
        "outputId": "0022196d-2e53-48ae-8191-165676290696"
      },
      "outputs": [
        {
          "data": {
            "text/plain": [
              "(array([[0.23242727],\n",
              "        [0.00124163],\n",
              "        [0.61203945],\n",
              "        ...,\n",
              "        [0.14593658],\n",
              "        [0.00103246],\n",
              "        [0.0097048 ]], dtype=float32),\n",
              " array([[0.2527607 ],\n",
              "        [0.        ],\n",
              "        [0.65492452],\n",
              "        ...,\n",
              "        [0.20589794],\n",
              "        [0.        ],\n",
              "        [0.01389723]]))"
            ]
          },
          "execution_count": 111,
          "metadata": {},
          "output_type": "execute_result"
        }
      ],
      "source": [
        "predicted_train,Ydata_model_train"
      ]
    },
    {
      "cell_type": "code",
      "execution_count": null,
      "metadata": {
        "id": "PFjFCXYmAYFw",
        "outputId": "a0945c6a-c1df-4125-9b72-97cddbc092bc"
      },
      "outputs": [
        {
          "name": "stderr",
          "output_type": "stream",
          "text": [
            "/home/u50953/.local/lib/python3.7/site-packages/seaborn/distributions.py:2551: FutureWarning: `distplot` is a deprecated function and will be removed in a future version. Please adapt your code to use either `displot` (a figure-level function with similar flexibility) or `histplot` (an axes-level function for histograms).\n",
            "  warnings.warn(msg, FutureWarning)\n"
          ]
        },
        {
          "data": {
            "text/plain": [
              "<matplotlib.axes._subplots.AxesSubplot at 0x7fcb99501510>"
            ]
          },
          "execution_count": 118,
          "metadata": {},
          "output_type": "execute_result"
        },
        {
          "data": {
            "image/png": "[encoded data removed]",
            "text/plain": [
              "<Figure size 576x396 with 1 Axes>"
            ]
          },
          "metadata": {},
          "output_type": "display_data"
        }
      ],
      "source": [
        "#plt.hist(Ydata_model_train,color=\"r\")\n",
        "sns.distplot(predicted_train,color=\"black\")"
      ]
    },
    {
      "cell_type": "code",
      "execution_count": null,
      "metadata": {
        "id": "uc2sIk5_AYFw",
        "outputId": "a1912740-994a-461b-f2b8-b9e403ebedb3"
      },
      "outputs": [
        {
          "name": "stderr",
          "output_type": "stream",
          "text": [
            "/home/u50953/.local/lib/python3.7/site-packages/seaborn/distributions.py:2551: FutureWarning: `distplot` is a deprecated function and will be removed in a future version. Please adapt your code to use either `displot` (a figure-level function with similar flexibility) or `histplot` (an axes-level function for histograms).\n",
            "  warnings.warn(msg, FutureWarning)\n"
          ]
        },
        {
          "data": {
            "text/plain": [
              "<matplotlib.axes._subplots.AxesSubplot at 0x7fcb683f0310>"
            ]
          },
          "execution_count": 113,
          "metadata": {},
          "output_type": "execute_result"
        },
        {
          "data": {
            "image/png": "[encoded data removed]",
            "text/plain": [
              "<Figure size 576x396 with 1 Axes>"
            ]
          },
          "metadata": {},
          "output_type": "display_data"
        }
      ],
      "source": [
        "sns.distplot(scaler.inverse_transform(Ydata_model_train))"
      ]
    },
    {
      "cell_type": "code",
      "execution_count": null,
      "metadata": {
        "id": "AJOosvw9AYFx"
      },
      "outputs": [],
      "source": [
        "def R_squared(y, y_pred):\n",
        "  residual = tf.reduce_sum(tf.square(tf.subtract(y, y_pred)))\n",
        "  total = tf.reduce_sum(tf.square(tf.subtract(y, tf.reduce_mean(y))))\n",
        "  r2 = tf.subtract(1.0, tf.truediv(residual, total))\n",
        "  return r2\n",
        "init=tf.keras.initializers.HeNormal(seed=None)\n",
        "\n",
        "def custom_lossfunction(real,pred):\n",
        "    return tf.sqrt(tf.keras.losses.mean_squared_error(real, pred))\n",
        "model = Sequential()\n",
        "model.add(LSTM(64, activation=\"relu\",input_shape=(30, 6),kernel_initializer=init))\n",
        "model.add(Dense(1,kernel_initializer=init))\n",
        "model.compile(optimizer='adam',loss=[custom_lossfunction],metrics=[R_squared])\n",
        "history=model.fit(Xdata_model_train,Ydata_model_train,epochs=100,batch_size=512,validation_data=(Xdata_model_test,Ydata_model_test))"
      ]
    },
    {
      "cell_type": "code",
      "execution_count": null,
      "metadata": {
        "id": "y-vpqpfPAYFz",
        "outputId": "fd0a09fe-348b-4bd9-d7f8-474685110266"
      },
      "outputs": [
        {
          "data": {
            "image/png": "[encoded data removed]",
            "text/plain": [
              "<Figure size 576x396 with 1 Axes>"
            ]
          },
          "metadata": {},
          "output_type": "display_data"
        }
      ],
      "source": [
        "import matplotlib.pyplot as plt\n",
        "plt.title('Learning Curves')\n",
        "plt.xlabel('Epoch')\n",
        "plt.ylabel('irradiance')\n",
        "plt.plot(history.history['loss'], label='train')\n",
        "plt.plot(history.history['val_loss'], label='val')\n",
        "plt.legend()\n",
        "plt.show()\n"
      ]
    },
    {
      "cell_type": "code",
      "execution_count": null,
      "metadata": {
        "id": "z99CXo5_AYF0"
      },
      "outputs": [],
      "source": [
        "model.save(\"weather_v2.h5\")"
      ]
    },
    {
      "cell_type": "code",
      "execution_count": null,
      "metadata": {
        "id": "1-mwv9lTAYF0"
      },
      "outputs": [],
      "source": [
        "pred=model.predict(Xdata_model_train)"
      ]
    },
    {
      "cell_type": "code",
      "execution_count": null,
      "metadata": {
        "id": "tmgaAR8xAYF3"
      },
      "outputs": [],
      "source": [
        ""
      ]
    },
    {
      "cell_type": "code",
      "execution_count": null,
      "metadata": {
        "id": "XeDdrb7eAYF3",
        "outputId": "f00bf210-b9bb-49a0-e505-eb74a8899f3c"
      },
      "outputs": [
        {
          "data": {
            "text/plain": [
              "(array([[ 2.7218506e+02],\n",
              "        [-4.1899383e-01],\n",
              "        [ 8.8061365e+02],\n",
              "        ...,\n",
              "        [ 5.4917517e+02],\n",
              "        [ 1.2860901e+01],\n",
              "        [ 1.1271797e+01]], dtype=float32),\n",
              " array([[346.4760132 ],\n",
              "        [  0.        ],\n",
              "        [897.7489014 ],\n",
              "        ...,\n",
              "        [282.2380981 ],\n",
              "        [  0.        ],\n",
              "        [ 19.04986954]]))"
            ]
          },
          "execution_count": 130,
          "metadata": {},
          "output_type": "execute_result"
        }
      ],
      "source": [
        "scaler.inverse_transform(pred),scaler.inverse_transform(Ydata_model_train)"
      ]
    },
    {
      "cell_type": "code",
      "execution_count": null,
      "metadata": {
        "id": "k6bbE1jOAYF4"
      },
      "outputs": [],
      "source": [
        "model.save(\"weather_v3.h5\")"
      ]
    },
    {
      "cell_type": "code",
      "execution_count": null,
      "metadata": {
        "id": "kssc75sBAYF4"
      },
      "outputs": [],
      "source": [
        ""
      ]
    }
  ],
  "metadata": {
    "accelerator": "GPU",
    "colab": {
      "name": "LSTM_sample_weather_data_Feb23.ipynb",
      "provenance": []
    },
    "kernelspec": {
      "display_name": "Python 3",
      "language": "python",
      "name": "python3"
    },
    "language_info": {
      "codemirror_mode": {
        "name": "ipython",
        "version": 3
      },
      "file_extension": ".py",
      "mimetype": "text/x-python",
      "name": "python",
      "nbconvert_exporter": "python",
      "pygments_lexer": "ipython3",
      "version": "3.7.9"
    }
  },
  "nbformat": 4,
  "nbformat_minor": 0
}